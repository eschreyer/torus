{
 "cells": [
  {
   "cell_type": "code",
   "execution_count": 6,
   "id": "8111e395-730f-415b-98ad-55ff377c3570",
   "metadata": {},
   "outputs": [],
   "source": [
    "#notebook to see if a hot jupiter/super earth can lose a lot of spin angular momentum with magnetic escape\n",
    "import numpy as np"
   ]
  },
  {
   "cell_type": "code",
   "execution_count": 2,
   "id": "e28c9fbd-843f-4520-88f1-8ab692900fa6",
   "metadata": {
    "tags": []
   },
   "outputs": [],
   "source": [
    "G = 6.67e-8\n",
    "m_earth = 5.972e27\n",
    "r_earth = 6.3e8\n",
    "m_sun = 1.989e33\n",
    "r_sun = 6.99e10\n",
    "m_jupiter = 1.89e30\n",
    "r_jupiter = 6.99e9\n",
    "mdot_sun = (2e-14 * m_sun) / (365 * 24 * 60 * 60)"
   ]
  },
  {
   "cell_type": "markdown",
   "id": "e2feda92-6075-45ee-9934-70006d94afd8",
   "metadata": {},
   "source": [
    "For a spherical symmetric density distribution spinning on it's axis, the angular momentum and moment of inertia are\n",
    "\n",
    "$L = \\int_0^R \\rho(r)wr^4sin\\theta drd\\theta d\\phi$\n",
    "\n",
    "$I = \\frac{L}{w} = \\int_0^R \\rho(r)r^4sin\\theta drd\\theta d\\phi$"
   ]
  },
  {
   "cell_type": "code",
   "execution_count": 58,
   "id": "8326fd9b-b471-4580-87f5-5116aad78679",
   "metadata": {},
   "outputs": [],
   "source": [
    "#spin angular momentum hot jupiter\n",
    "#jupiter moment of inertia : 0.25\n",
    "Omega = np.sqrt(G * m_sun / (0.03 * 1.5e13)**3) \n",
    "Lspin = 0.25 * m_jupiter * Omega * r_jupiter**2  "
   ]
  },
  {
   "cell_type": "code",
   "execution_count": 68,
   "id": "9f9fb85f-3a2d-4172-b916-2a0f3a9ef1e1",
   "metadata": {},
   "outputs": [],
   "source": [
    "#how much spin angular momentum can the planet lose, jupiter\n",
    "\n",
    "Mdot = 1e12\n",
    "r_A = 100 * r_jupiter\n",
    "yr = 60 * 60 * 24 * 365\n",
    "dLspin = (2 / 3) * r_A**2 * Omega * Mdot * 10**8 * yr"
   ]
  },
  {
   "cell_type": "code",
   "execution_count": 46,
   "id": "fe93c6d5-b149-479e-bf39-a5f2ba804de4",
   "metadata": {},
   "outputs": [
    {
     "name": "stdout",
     "output_type": "stream",
     "text": [
      "7.101407914764079\n"
     ]
    }
   ],
   "source": [
    "#spin angular momentum super earth\n",
    "OmegaSE = np.sqrt(G * m_sun / (0.1 * 1.5e13)**3) \n",
    "rp = 3 * r_earth\n",
    "mp = 9 * m_earth\n",
    "LspinSE = 0.25 * mp * Omega * rp**2 \n",
    "\n",
    "\n",
    "MdotSE = 1e9\n",
    "r_A = 3 * rp\n",
    "yr = 60 * 60 * 24 * 365\n",
    "dLspindt = (2 / 3) * r_A**2 * Omega * Mdot\n",
    "dLspindt * 10**8 * yr\n",
    "\n",
    "print(LspinSE / (dLspindt * 10**8 * yr))"
   ]
  },
  {
   "cell_type": "code",
   "execution_count": 48,
   "id": "e17995ea-9fea-4891-852f-affd33ac83a4",
   "metadata": {},
   "outputs": [],
   "source": [
    "#orbital angular momentum jupiter\n",
    "\n",
    "Lorb = m_jupiter * np.sqrt(G * m_sun * 0.03 * 1.5e13)"
   ]
  },
  {
   "cell_type": "code",
   "execution_count": 56,
   "id": "3c2c8f38-6f85-4f69-bfe8-7deafffb461e",
   "metadata": {},
   "outputs": [],
   "source": [
    "Isun = 0.07 * m_sun * r_sun**2\n",
    "Lsun = Isun * 1e6 / r_sun"
   ]
  },
  {
   "cell_type": "code",
   "execution_count": 73,
   "id": "a6b3ecbc-ffca-461e-957a-94ca6f7cd56d",
   "metadata": {},
   "outputs": [
    {
     "data": {
      "text/plain": [
       "372.57793589205613"
      ]
     },
     "execution_count": 73,
     "metadata": {},
     "output_type": "execute_result"
    }
   ],
   "source": [
    "Lorb / dLspin"
   ]
  },
  {
   "cell_type": "code",
   "execution_count": null,
   "id": "5cd69ddf-d02b-4b13-a84f-31bb56d2163f",
   "metadata": {},
   "outputs": [],
   "source": []
  }
 ],
 "metadata": {
  "kernelspec": {
   "display_name": "Python 3 (ipykernel)",
   "language": "python",
   "name": "python3"
  },
  "language_info": {
   "codemirror_mode": {
    "name": "ipython",
    "version": 3
   },
   "file_extension": ".py",
   "mimetype": "text/x-python",
   "name": "python",
   "nbconvert_exporter": "python",
   "pygments_lexer": "ipython3",
   "version": "3.8.13"
  }
 },
 "nbformat": 4,
 "nbformat_minor": 5
}

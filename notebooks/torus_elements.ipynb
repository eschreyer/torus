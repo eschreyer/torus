{
 "cells": [
  {
   "cell_type": "code",
   "execution_count": 1,
   "id": "b94f9ef5",
   "metadata": {},
   "outputs": [
    {
     "name": "stdout",
     "output_type": "stream",
     "text": [
      " ChiantiPy version 0.15.0 \n",
      " found PyQt5 widgets\n",
      " using PyQt5 widgets\n"
     ]
    }
   ],
   "source": [
    "import torus as t\n",
    "import pandas as pd\n",
    "import numpy as np\n",
    "import constants as const\n",
    "import stellar_spectra as ss\n",
    "import scipy.integrate as sp_int\n",
    "from flatstar import draw\n",
    "import matplotlib.pyplot as plt"
   ]
  },
  {
   "cell_type": "code",
   "execution_count": 2,
   "id": "e45a415f",
   "metadata": {},
   "outputs": [],
   "source": [
    "solar_abundance = pd.read_excel('../SolarSystemAbundances_Lodders2021.xlsx', usecols = [1, 11], names = ['Element', 'Abundance'], skiprows=3, dtype={'Element':'string'}) #in astronomical abundance\n",
    "\n",
    "#change to abundance relative to hydrogen\n",
    "solar_abundance['Abundance'] = 10**(solar_abundance['Abundance'] - 12)\n",
    "sa = dict(zip(solar_abundance['Element'], solar_abundance['Abundance']))\n",
    "sola =  {k.lower(): v for k, v in sa.items()}\n",
    "species_keys = ['h', 'he', 'c', 'ca', 'fe', 'na', 'al', 'o', 'mg', 'si', 'n', 'ne', 'ar', 's']\n",
    "species = dict((k, sola[k]) for k in species_keys)\n",
    "species_state = ['he_1', 'he_1', 'c_2', 'c_3', 'c_4', 'o_1', 'mg_1', 'mg_2', 'ca_1', 'ca_2', 'fe_2', 'na_1', 'al_2']\n",
    "lines = [['he_3-2', 'he_3-1', 'he_3-0'], ['he_32-2', 'he_32-1', 'he_32-0'], ['c2_1335'], ['c3_977'], ['c4_1548'], ['o1_1302'], ['mg_2852'], ['mg2_h'], ['ca_422'], ['ca2_h'], ['fe2_2600'], ['na_5890'], ['al2_1670']]\n",
    "wvls = [np.linspace(1.0830e-4, 1.0836e-4, 100),\n",
    "        np.linspace(3.8884095227659365e-05, 3.891048491911004e-05, 100),\n",
    "        np.linspace(1.3340868443910739e-05, 1.3349771556089262e-05, 100),\n",
    "        np.linspace(9.766940985356417e-06, 9.773459014643584e-06, 100),\n",
    "        np.linspace(1.5476705761699857e-05, 1.5487034238300142e-05, 100),\n",
    "        np.linspace(1.3017336399479635e-05, 1.3026023600520364e-05, 100),\n",
    "        np.linspace(2.851175625037526e-05, 2.8530783749624736e-05, 100), \n",
    "        np.linspace(2.7954172303946095e-05, 2.7972827696053907e-05, 100),\n",
    "        np.linspace(4.225317703872711e-05, 4.228137496127289e-05, 100), \n",
    "        np.linspace(3.933464488908903e-05, 3.936089511091097e-05, 100),\n",
    "        np.linspace(2.5993056685346406e-05, 2.601040331465359e-05, 100),\n",
    "        np.linspace(5.8879853080489675e-05, 5.8919146919510327e-05, 100),\n",
    "        np.linspace(1.6702296808766137e-05, 1.6713443191233865e-05, 100)]"
   ]
  },
  {
   "cell_type": "code",
   "execution_count": 3,
   "id": "97864f1e",
   "metadata": {},
   "outputs": [
    {
     "data": {
      "text/plain": [
       "\"for j, line in enumerate(lines):\\n    tau_line = disk.get_optical_depth(species_state[j], lines[j], wvls[j][50])\\n    print(line)\\n    print(tau_line)\\n    i_line, tau_line = disk.do_transit(species_state[j], lines[j], wvls[j], flux_map_oot, indexing='image')\\n    fig1, ax1 = plt.subplots()\\n    im1 = ax1.imshow(flux_map_oot * np.exp(-tau_line[:, : , 50]), origin='lower')\\n    fig1.colorbar(im1, ax=ax1)\\n    plt.show()\\n    plt.plot(wvls[j], i_line)\\n    plt.show()\""
      ]
     },
     "execution_count": 3,
     "metadata": {},
     "output_type": "execute_result"
    }
   ],
   "source": [
    "K_star = {'mass' : 0.74, 'radius' : 0.77, 'stellar_type' : 'early-K'} \n",
    "Sun = {'mass' : 1, 'radius' : 1, 'stellar_type':'solar'}\n",
    "F_star = {'mass' : 1.19, 'radius' : 1.23, 'stellar_type' : 'late-F'} \n",
    "\n",
    "\n",
    "#star\n",
    "star = F_star\n",
    "\n",
    "#star grid\n",
    "flux_map_oot = draw.star(100, supersampling=10).intensity\n",
    "\n",
    "#disk config\n",
    "P = 4 * const.day\n",
    "a = (P**2 * const.G * star['mass'] * const.m_sun / 4 / np.pi**2)**(1/3)\n",
    "T=np.float64(10**4)\n",
    "cs = np.sqrt(const.kb * T / (2 * const.mp))\n",
    "Lcor = 1e6 * P / 4 / np.pi\n",
    "\n",
    "#spectrum \n",
    "star_base_spectrum = ss.stellar_spectra(star['stellar_type'], semi_major_axis = a / (star['radius']*const.r_sun))\n",
    "star_spectrum = star_base_spectrum.get_rescaled_spectrum(norm_wav=[1.24e-6, 9.12e-6], norm_flux=10**5, rescale_rng=[1e-6, 1.2e-5])\n",
    "\n",
    "\n",
    "#disk = t.Torus(species=species, stellar_spectrum=star_spectrum, Ms=star['mass']*const.m_sun, Rs=star['radius']*const.r_sun, ap=a, T=T, Rtorus=[a-Lcor, a+Lcor], tau=10)\n",
    "\n",
    "#get_EW\n",
    "\"\"\"for j, line in enumerate(lines):\n",
    "    tau_line = disk.get_optical_depth(species_state[j], lines[j], wvls[j][50])\n",
    "    print(line)\n",
    "    print(tau_line)\n",
    "    i_line, tau_line = disk.do_transit(species_state[j], lines[j], wvls[j], flux_map_oot, indexing='image')\n",
    "    fig1, ax1 = plt.subplots()\n",
    "    im1 = ax1.imshow(flux_map_oot * np.exp(-tau_line[:, : , 50]), origin='lower')\n",
    "    fig1.colorbar(im1, ax=ax1)\n",
    "    plt.show()\n",
    "    plt.plot(wvls[j], i_line)\n",
    "    plt.show()\"\"\""
   ]
  },
  {
   "cell_type": "code",
   "execution_count": 4,
   "id": "5fdaf443-6864-4f9e-812c-bb5665e94a8f",
   "metadata": {},
   "outputs": [
    {
     "name": "stdout",
     "output_type": "stream",
     "text": [
      "1.7101721796706992\n"
     ]
    }
   ],
   "source": [
    "#compare K, G and F abundances for same EUV flux\n",
    "\n",
    "diskK = t.Torus(species=species, stellar_spectrum=star_spectrum, Ms=star['mass']*const.m_sun, Rs=star['radius']*const.r_sun, ap=a, T=T, Rtorus=[a-Lcor, a+Lcor], nH=1e7)\n",
    "\n",
    "\n",
    "\n"
   ]
  },
  {
   "cell_type": "code",
   "execution_count": 7,
   "id": "391dabfc-4d5a-47d5-b604-fdab2823c8ca",
   "metadata": {},
   "outputs": [
    {
     "name": "stdout",
     "output_type": "stream",
     "text": [
      "1.7101721796706992\n"
     ]
    }
   ],
   "source": [
    "diskK = t.Torus(species=species, stellar_spectrum=star_spectrum, Ms=star['mass']*const.m_sun, Rs=star['radius']*const.r_sun, ap=a, T=T, Rtorus=[a-Lcor, a+Lcor], nH=1e8)"
   ]
  },
  {
   "cell_type": "code",
   "execution_count": 8,
   "id": "d1acbb56",
   "metadata": {},
   "outputs": [
    {
     "data": {
      "text/plain": [
       "{'h': array([0.00386038, 0.99613962]),\n",
       " 'he': array([2.17976137e-02, 4.15881033e-06, 9.46219319e-01, 3.19789084e-02]),\n",
       " 'c': array([2.28754553e-04, 3.00285067e-01, 6.86882263e-01, 1.25766371e-02,\n",
       "        2.72778180e-05, 5.29079788e-12, 4.60553137e-19]),\n",
       " 'ca': array([1.09992495e-004, 3.21770893e-002, 8.21595246e-001, 1.45459113e-001,\n",
       "        6.58499920e-004, 5.91917013e-008, 1.05628775e-013, 5.81243948e-021,\n",
       "        1.18695712e-028, 5.22890507e-036, 1.33303010e-043, 1.19050949e-050,\n",
       "        1.14464564e-058, 1.51946064e-066, 5.49429261e-075, 1.07193959e-083,\n",
       "        3.98623861e-093, 3.73165031e-103, 2.75132206e-113, 2.61367110e-129,\n",
       "        3.60390711e-146]),\n",
       " 'fe': array([4.49272849e-006, 1.41743511e-003, 8.67589108e-002, 8.52457843e-001,\n",
       "        5.90680048e-002, 2.93136559e-004, 1.77275733e-007, 2.13558877e-014,\n",
       "        1.22815025e-022, 1.80796581e-030, 9.03066470e-039, 2.55016369e-047,\n",
       "        2.42432826e-056, 3.11895035e-065, 6.60868061e-074, 4.23884950e-082,\n",
       "        1.42202017e-090, 7.21774996e-100, 8.80938107e-110, 1.88777268e-120,\n",
       "        1.68361769e-131, 3.03404974e-143, 1.69065299e-154, 4.11819367e-166,\n",
       "        3.51578415e-178, 6.80013272e-197, 4.76356168e-216]),\n",
       " 'na': array([3.00489109e-04, 3.61784679e-01, 6.21913451e-01, 1.59933556e-02,\n",
       "        8.02495520e-06, 2.46248332e-12, 6.80715154e-19, 4.73108067e-26,\n",
       "        5.53539231e-34, 1.32223417e-41, 2.42873179e-51, 9.11448757e-62]),\n",
       " 'al': array([4.88675558e-05, 6.96334927e-01, 2.38295022e-01, 6.53052452e-02,\n",
       "        1.59384335e-05, 5.31433769e-11, 2.83878862e-17, 4.04173221e-24,\n",
       "        3.47151842e-31, 1.13334890e-38, 5.88016887e-47, 6.11896966e-55,\n",
       "        6.71978026e-66, 1.39867520e-77]),\n",
       " 'o': array([1.70203175e-04, 1.12944470e-01, 8.69922033e-01, 1.69570747e-02,\n",
       "        6.21909934e-06, 1.77608648e-10, 8.48522222e-17, 3.03409443e-24,\n",
       "        2.66634318e-32]),\n",
       " 'mg': array([8.61754395e-02, 1.49084174e-01, 7.51135625e-01, 1.36008947e-02,\n",
       "        3.86690094e-06, 5.93818093e-12, 1.88474836e-18, 1.60825810e-25,\n",
       "        1.13459555e-32, 3.56913691e-40, 5.76990183e-48, 4.03189366e-58,\n",
       "        5.37474703e-69]),\n",
       " 'si': array([1.43978913e-03, 4.20133686e-01, 5.31219713e-01, 4.65857539e-02,\n",
       "        6.21055129e-04, 2.89912617e-09, 3.28852839e-15, 7.18562862e-22,\n",
       "        6.31643038e-30, 7.13565680e-38, 3.81093920e-46, 7.31963832e-54,\n",
       "        6.13002966e-62, 1.86800482e-73, 1.28153309e-85]),\n",
       " 'n': array([3.15605376e-04, 1.39000244e-01, 8.40882537e-01, 1.97940453e-02,\n",
       "        7.56784362e-06, 7.18769098e-10, 9.51799312e-17, 3.45415598e-24]),\n",
       " 'ne': array([1.36187239e-03, 3.83204370e-01, 6.07394866e-01, 8.03546305e-03,\n",
       "        3.42824132e-06, 1.62446156e-12, 1.33726624e-19, 1.58966612e-26,\n",
       "        8.61561722e-34, 7.94829617e-43, 8.70571840e-53]),\n",
       " 'ar': array([3.48703945e-005, 4.82281883e-002, 8.56441935e-001, 9.52147533e-002,\n",
       "        8.02426936e-005, 1.01761548e-008, 8.72337046e-014, 1.25798798e-020,\n",
       "        1.05352474e-027, 1.73092142e-034, 1.23028611e-041, 4.40355103e-049,\n",
       "        5.35836348e-057, 2.74652146e-065, 2.70027921e-074, 2.18592998e-083,\n",
       "        1.17749774e-092, 3.87237884e-107, 1.88731889e-122]),\n",
       " 's': array([1.40643021e-004, 3.08100719e-001, 6.37566188e-001, 5.40919430e-002,\n",
       "        1.00480351e-004, 2.65297135e-008, 2.02917669e-012, 1.23355095e-018,\n",
       "        7.08241943e-026, 3.21087451e-033, 6.24051480e-041, 1.26856940e-048,\n",
       "        8.15946302e-057, 3.36558736e-065, 1.11842718e-073, 1.07264665e-086,\n",
       "        2.97040737e-100])}"
      ]
     },
     "execution_count": 8,
     "metadata": {},
     "output_type": "execute_result"
    }
   ],
   "source": [
    "diskK.species_ion_abundances"
   ]
  },
  {
   "cell_type": "code",
   "execution_count": 13,
   "id": "ee83b6e3-a4d8-403f-8cb9-878a81864764",
   "metadata": {},
   "outputs": [
    {
     "data": {
      "text/plain": [
       "{'h': array([3.88733750e-04, 9.99611266e-01]),\n",
       " 'he': array([1.21486730e-03, 7.84902967e-07, 7.47150532e-01, 2.51633816e-01]),\n",
       " 'c': array([2.72587553e-06, 3.56581725e-02, 8.12824374e-01, 1.48309174e-01,\n",
       "        3.20554726e-03, 6.19587714e-09, 5.37465314e-15]),\n",
       " 'ca': array([4.73372580e-007, 1.37998978e-003, 3.51136602e-001, 6.19509815e-001,\n",
       "        2.79480848e-002, 2.50349206e-005, 4.45201594e-010, 2.44130466e-016,\n",
       "        4.96806922e-023, 2.18098377e-029, 5.54077740e-036, 4.93120073e-042,\n",
       "        4.72476209e-049, 6.25010645e-056, 2.25215779e-063, 4.37871230e-071,\n",
       "        1.62266347e-079, 1.51375357e-088, 1.11220474e-097, 1.05289076e-112,\n",
       "        1.44675516e-128]),\n",
       " 'fe': array([3.06935824e-009, 9.65005197e-006, 5.88612700e-003, 5.76338349e-001,\n",
       "        3.97966008e-001, 1.96812525e-002, 1.18609946e-004, 1.42389681e-010,\n",
       "        8.16021236e-018, 1.19709672e-024, 5.95864919e-032, 1.67681530e-039,\n",
       "        1.58853821e-047, 2.03659077e-055, 4.30030387e-063, 2.74866270e-070,\n",
       "        9.18900058e-078, 4.64786414e-086, 5.65309207e-095, 1.20720056e-104,\n",
       "        1.07290751e-114, 1.92677308e-125, 1.06992028e-135, 2.59712457e-146,\n",
       "        2.20951670e-157, 4.25874409e-175, 2.97293229e-193]),\n",
       " 'na': array([3.69732017e-06, 4.43606157e-02, 7.59917444e-01, 1.94744468e-01,\n",
       "        9.73771863e-04, 2.97767280e-09, 8.20272523e-15, 5.68122735e-21,\n",
       "        6.62398427e-28, 1.57676995e-34, 2.88621436e-43, 1.07937003e-52]),\n",
       " 'al': array([5.12303714e-07, 7.27468406e-02, 2.48084709e-01, 6.77520067e-01,\n",
       "        1.64781633e-03, 5.47521763e-08, 2.91456916e-13, 4.13521329e-19,\n",
       "        3.53947561e-25, 1.15152176e-31, 5.95370606e-39, 6.17397633e-46,\n",
       "        6.75664036e-56, 1.40146313e-66]),\n",
       " 'o': array([1.63096947e-06, 1.07852996e-02, 8.27821390e-01, 1.60803804e-01,\n",
       "        5.87708468e-04, 1.67258282e-07, 7.96298349e-13, 2.83746660e-19,\n",
       "        2.48488779e-26]),\n",
       " 'mg': array([9.61110296e-04, 1.65695356e-02, 8.31928923e-01, 1.50115111e-01,\n",
       "        4.25313385e-04, 6.50861377e-09, 2.05862631e-14, 1.75052760e-20,\n",
       "        1.23067495e-26, 3.85793196e-33, 6.21511043e-40, 4.32791343e-49,\n",
       "        5.74932150e-59]),\n",
       " 'si': array([1.31886406e-05, 3.83510905e-02, 4.83229530e-01, 4.22300389e-01,\n",
       "        5.61031927e-02, 2.60983836e-06, 2.95010286e-11, 6.42376141e-17,\n",
       "        5.62711018e-24, 6.33485574e-31, 3.37150545e-38, 6.45313184e-45,\n",
       "        5.38558100e-52, 1.63544917e-62, 1.11809306e-73]),\n",
       " 'n': array([3.01858986e-06, 1.32484280e-02, 7.98680699e-01, 1.87353360e-01,\n",
       "        7.13819069e-04, 6.75607503e-07, 8.91537312e-13, 3.22422360e-19]),\n",
       " 'ne': array([1.88823065e-05, 5.29466089e-02, 8.36311144e-01, 1.10254607e-01,\n",
       "        4.68755410e-04, 2.21346886e-09, 1.81581220e-15, 2.15103777e-21,\n",
       "        1.16176312e-27, 1.06805668e-35, 1.16577287e-44]),\n",
       " 'ar': array([1.93134844e-007, 2.66191259e-003, 4.71063915e-001, 5.21885499e-001,\n",
       "        4.38294028e-003, 5.53901866e-006, 4.73175784e-010, 6.79991927e-016,\n",
       "        5.67493738e-022, 9.29143423e-028, 6.58113194e-034, 2.34739719e-040,\n",
       "        2.84645805e-047, 1.45393397e-054, 1.42449008e-062, 1.14914829e-070,\n",
       "        6.16863366e-079, 2.02160269e-092, 9.81866233e-107]),\n",
       " 's': array([1.16321554e-06, 2.53935717e-02, 5.23655206e-01, 4.42732904e-01,\n",
       "        8.19557504e-03, 2.15635331e-05, 1.64360061e-08, 9.95686439e-14,\n",
       "        5.69686874e-20, 2.57375363e-26, 4.98486187e-33, 1.00980150e-39,\n",
       "        6.47250553e-47, 2.66048485e-54, 8.81042190e-62, 8.42043918e-74,\n",
       "        2.32371652e-86])}"
      ]
     },
     "execution_count": 13,
     "metadata": {},
     "output_type": "execute_result"
    }
   ],
   "source": [
    "diskK.species_ion_abundances"
   ]
  },
  {
   "cell_type": "code",
   "execution_count": null,
   "id": "3511fbf8-e37f-40c9-9936-d2ca92000d5d",
   "metadata": {},
   "outputs": [],
   "source": []
  }
 ],
 "metadata": {
  "kernelspec": {
   "display_name": "Python 3 (ipykernel)",
   "language": "python",
   "name": "python3"
  },
  "language_info": {
   "codemirror_mode": {
    "name": "ipython",
    "version": 3
   },
   "file_extension": ".py",
   "mimetype": "text/x-python",
   "name": "python",
   "nbconvert_exporter": "python",
   "pygments_lexer": "ipython3",
   "version": "3.8.18"
  }
 },
 "nbformat": 4,
 "nbformat_minor": 5
}

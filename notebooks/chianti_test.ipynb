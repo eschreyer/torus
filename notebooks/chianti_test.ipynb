{
 "cells": [
  {
   "cell_type": "code",
   "execution_count": 11,
   "id": "a341bed5-479b-4114-ac93-ef8d79f0b0fb",
   "metadata": {},
   "outputs": [],
   "source": [
    "import ChiantiPy\n",
    "import ChiantiPy.core as ch\n",
    "import ChiantiPy.tools.filters as chfilters\n",
    "import ChiantiPy.tools.io as chio\n",
    "import constants as const\n",
    "import numpy as np"
   ]
  },
  {
   "cell_type": "code",
   "execution_count": 2,
   "id": "467e37f5-7c4e-4a15-a279-3517736abc9a",
   "metadata": {},
   "outputs": [],
   "source": [
    "mg2 = ch.ion('mg_2', temperature = 1.0, eDensity = 1.0)"
   ]
  },
  {
   "cell_type": "code",
   "execution_count": 5,
   "id": "3fdc6d95-5ca3-4a29-a552-eba9715c70d4",
   "metadata": {},
   "outputs": [
    {
     "data": {
      "text/plain": [
       "<ChiantiPy.core.Ion.ion at 0x7f9168a0bb20>"
      ]
     },
     "execution_count": 5,
     "metadata": {},
     "output_type": "execute_result"
    }
   ],
   "source": [
    "mg2"
   ]
  },
  {
   "cell_type": "code",
   "execution_count": 4,
   "id": "cc55a972-e73f-49ab-b17a-a22162acda97",
   "metadata": {},
   "outputs": [
    {
     "data": {
      "text/plain": [
       "5.478203324612034e-05"
      ]
     },
     "execution_count": 4,
     "metadata": {},
     "output_type": "execute_result"
    }
   ],
   "source": []
  },
  {
   "cell_type": "code",
   "execution_count": 12,
   "id": "76e7d837-2566-460d-9b48-c03280ea8038",
   "metadata": {},
   "outputs": [],
   "source": [
    "H = np.sqrt((1.4 * const.r_jupiter)**3 * 10**10 / (const.G * const.m_jupiter))"
   ]
  },
  {
   "cell_type": "code",
   "execution_count": 14,
   "id": "3304de0e-3043-42bd-bdea-aea3849b9ce6",
   "metadata": {},
   "outputs": [
    {
     "data": {
      "text/plain": [
       "0.039006485533944375"
      ]
     },
     "execution_count": 14,
     "metadata": {},
     "output_type": "execute_result"
    }
   ],
   "source": [
    "H / const.r_jupiter"
   ]
  },
  {
   "cell_type": "code",
   "execution_count": 16,
   "id": "e8d008b9-6679-4708-ae78-84d4033e426f",
   "metadata": {},
   "outputs": [
    {
     "data": {
      "text/plain": [
       "5.397481336829118e-12"
      ]
     },
     "execution_count": 16,
     "metadata": {},
     "output_type": "execute_result"
    }
   ],
   "source": [
    "10**11 * np.exp(-const.r_jupiter / H)"
   ]
  },
  {
   "cell_type": "code",
   "execution_count": null,
   "id": "1132eef5-0c9a-48e5-8a28-904775b359cc",
   "metadata": {},
   "outputs": [],
   "source": []
  }
 ],
 "metadata": {
  "kernelspec": {
   "display_name": "Python 3 (ipykernel)",
   "language": "python",
   "name": "python3"
  },
  "language_info": {
   "codemirror_mode": {
    "name": "ipython",
    "version": 3
   },
   "file_extension": ".py",
   "mimetype": "text/x-python",
   "name": "python",
   "nbconvert_exporter": "python",
   "pygments_lexer": "ipython3",
   "version": "3.8.18"
  }
 },
 "nbformat": 4,
 "nbformat_minor": 5
}

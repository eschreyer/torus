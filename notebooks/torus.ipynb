{
 "cells": [
  {
   "cell_type": "code",
   "execution_count": 2,
   "id": "d599e263-9c2d-4209-ba51-020bff08fe88",
   "metadata": {},
   "outputs": [],
   "source": [
    "#make torus model \n",
    "\n",
    "#make height scale height at planet\n",
    "#depth free parameter\n",
    "#column density fixed to maximum allowed so that 13.6eV photons still penetrate to the planet "
   ]
  },
  {
   "cell_type": "code",
   "execution_count": 160,
   "id": "f881a036-87ae-4d85-b3df-fcb5924bd35a",
   "metadata": {},
   "outputs": [],
   "source": [
    "import numpy as np\n",
    "import atomic_species as at\n",
    "import scipy.integrate as sp_int\n",
    "import scipy.special as sp_spec\n",
    "import matplotlib.pyplot as plt"
   ]
  },
  {
   "cell_type": "code",
   "execution_count": 1,
   "id": "8f5c95f8-7d54-40c7-a52f-f9a2f4483f47",
   "metadata": {},
   "outputs": [],
   "source": [
    "#we can calculate the number of neutral hydrogen as a function of number density of hydrogen\n",
    "\n",
    "alphaA_LyA = 4.18e-13\n",
    "mp = 1.67e-24 #g\n",
    "G = 6.67e-8\n",
    "kb = 1.38e-16\n",
    "xs_phot = 6.3e-18 \n",
    "\n",
    "def nHI(nH, gamma):\n",
    "    nHI = nH * (1 + (gamma - np.sqrt(gamma**2 + 4 * alphaA_LyA * nH * gamma)) / (2 * alphaA_LyA * nH))\n",
    "    return nHI\n",
    "\n",
    "def ne(nH, gamma):\n",
    "    return nH - nHI(nH, gamma)\n",
    "\n",
    "def tau_phot(nH, gamma, D):\n",
    "    return nHI(nH, gamma) * xs_phot * D\n",
    "\n",
    "def nH(tau, gamma, D):\n",
    "    return tau / (D * xs_phot) + np.sqrt((tau * gamma) / (alphaA_LyA * D * xs_phot))"
   ]
  },
  {
   "cell_type": "code",
   "execution_count": 4,
   "id": "de6cada2-a4fd-45a0-96e2-e1335dc051b8",
   "metadata": {},
   "outputs": [],
   "source": [
    "class SimpleTorusMaker:\n",
    "    def __init__(self, Ms, a, gamma, D, T):\n",
    "        self.Ms = Ms\n",
    "        self.a = a\n",
    "        self.gamma = gamma\n",
    "        self.D = D\n",
    "        self.T = T\n",
    "        \n",
    "    def get_height(self):\n",
    "        cs = np.sqrt(2 * kb * self.T / mp)\n",
    "        H = np.sqrt(2 * cs**2 * self.a**3 / (G * self.Ms))\n",
    "        \n",
    "    def get_densityH(self):\n",
    "        return nH(1, self.gamma, self.D)\n",
    "    \n",
    "    def Nc_species(self, spec2Hratio):\n",
    "        return self.get_densityH() * spec2Hratio * self.D\n",
    "    \n",
    "    def tau_species(self, spec2Hratio, xs):\n",
    "        return self.get_densityH() * spec2Hratio * xs * self.D\n",
    "        \n",
    "        \n",
    "        \n",
    "        \n",
    "        \n",
    "        "
   ]
  },
  {
   "cell_type": "code",
   "execution_count": 5,
   "id": "091eecaa-152e-475c-81ac-07d4da3d6b2d",
   "metadata": {},
   "outputs": [
    {
     "data": {
      "text/plain": [
       "6.163869523641766e+20"
      ]
     },
     "execution_count": 5,
     "metadata": {},
     "output_type": "execute_result"
    }
   ],
   "source": [
    "torus = SimpleTorusMaker(1.4 * 2 * 10**33, 0.02 * 1.5e13, 10**0, 10**12, 10**4)\n",
    "torus.Nc_species(1) "
   ]
  },
  {
   "cell_type": "code",
   "execution_count": 6,
   "id": "16333791-f826-4db6-ba67-33857edac77f",
   "metadata": {},
   "outputs": [],
   "source": [
    "Mg2 = at.atomic_species('Mg II')"
   ]
  },
  {
   "cell_type": "code",
   "execution_count": 7,
   "id": "d3716ba3-b644-45af-95b9-b5c091a4bded",
   "metadata": {},
   "outputs": [
    {
     "data": {
      "text/plain": [
       "(15.04, 3.2780000000000002e-18)"
      ]
     },
     "execution_count": 7,
     "metadata": {},
     "output_type": "execute_result"
    }
   ],
   "source": [
    "Mg2.get_Eth()"
   ]
  },
  {
   "cell_type": "code",
   "execution_count": 259,
   "id": "77c88d27-bd89-4b2b-a779-0367c3ce6bbf",
   "metadata": {},
   "outputs": [],
   "source": [
    "#timescales \n",
    "G = 6.67e-8\n",
    "Msun = 1.989e33\n",
    "au = 1.5e13\n",
    "Rsun = 6.96e10\n",
    "cs = 1e6\n",
    "alphaA = 4.18e-13\n",
    "\n",
    "def omega(Ms, a):\n",
    "\n",
    "    return np.sqrt(G * Ms / a**3)\n",
    "\n",
    "def h(Ms, a, cs):\n",
    "\n",
    "    return np.sqrt(2) * cs / omega(Ms, a)\n",
    "\n",
    "def t_visc(Ms, a, cs, alpha):\n",
    "\n",
    "    return (a / h(Ms, a, cs))**2 * (1 / (alpha * omega(Ms, a)))\n",
    "\n",
    "def t_orb(Ms, a):\n",
    "\n",
    "    return 2 * np.pi / omega(Ms, a)\n",
    "\n",
    "\n",
    "def t_visc2(Ms, a, cs, alpha):\n",
    "\n",
    "    return (G * Ms)**(1/2) * a**(1/2) * cs**-2 * alpha**-1 / 2 \n",
    "\n",
    "\n",
    "def t_visc_div_t_orb(M, a, cs, alpha):\n",
    "\n",
    "    res = np.pi * G * M / (alpha * a * cs)\n",
    "    \n",
    "    return res\n",
    "\n",
    "def t_recomb(n_e):\n",
    "\n",
    "    return 1 / (n_e * alphaA)\n",
    "\n",
    "    "
   ]
  },
  {
   "cell_type": "code",
   "execution_count": 263,
   "id": "3bd929e3-e5fa-4b15-8554-4d3fa48e2687",
   "metadata": {},
   "outputs": [
    {
     "data": {
      "text/plain": [
       "2.768917242601453"
      ]
     },
     "execution_count": 263,
     "metadata": {},
     "output_type": "execute_result"
    }
   ],
   "source": [
    "t_recomb(1e7) / (60 * 60 * 24)"
   ]
  },
  {
   "cell_type": "code",
   "execution_count": 28,
   "id": "39f24a6b-eb29-4074-9eee-85c4f5ba4072",
   "metadata": {},
   "outputs": [
    {
     "data": {
      "text/plain": [
       "92.61854965754212"
      ]
     },
     "execution_count": 28,
     "metadata": {},
     "output_type": "execute_result"
    }
   ],
   "source": [
    "t_visc_div_t_orb(Msun, 0.03*1.5e13, 1e5, 1) / 1e8"
   ]
  },
  {
   "cell_type": "code",
   "execution_count": 266,
   "id": "24b32416-8d59-4e2f-b1a6-6a163d08b868",
   "metadata": {},
   "outputs": [
    {
     "data": {
      "text/plain": [
       "3863283.415697067"
      ]
     },
     "execution_count": 266,
     "metadata": {},
     "output_type": "execute_result"
    },
    {
     "data": {
      "image/png": "[encoded data removed]",
      "text/plain": [
       "<Figure size 640x480 with 1 Axes>"
      ]
     },
     "metadata": {},
     "output_type": "display_data"
    }
   ],
   "source": [
    "a = np.linspace(0.01*1.5e13, 0.1 * 1.5e13, 100)\n",
    "\n",
    "plt.plot(a, t_visc(Msun, a, 1e6, 1))\n",
    "\n",
    "t_visc(Msun, 0.03*1.5e13, 1e6, 1) "
   ]
  },
  {
   "cell_type": "code",
   "execution_count": 45,
   "id": "d8f54c24-8894-46d0-84fd-45ffd7f2e847",
   "metadata": {},
   "outputs": [
    {
     "data": {
      "text/plain": [
       "44.713928422419755"
      ]
     },
     "execution_count": 45,
     "metadata": {},
     "output_type": "execute_result"
    }
   ],
   "source": [
    "t_visc2(Msun, 0.03*1.5e13, 1e6, 1) / (24 * 60 * 60)"
   ]
  },
  {
   "cell_type": "code",
   "execution_count": 39,
   "id": "eea3c44d-2963-4b36-ba9f-3c9abe18e089",
   "metadata": {},
   "outputs": [
    {
     "data": {
      "text/plain": [
       "1.9059196516449528"
      ]
     },
     "execution_count": 39,
     "metadata": {},
     "output_type": "execute_result"
    }
   ],
   "source": [
    "t_orb(Msun, 0.03*1.5e13) / (60 * 60 * 24)"
   ]
  },
  {
   "cell_type": "code",
   "execution_count": 267,
   "id": "7848fa5a-1d9d-450e-b697-9aaead146c7c",
   "metadata": {},
   "outputs": [
    {
     "data": {
      "text/plain": [
       "0.16831436819073176"
      ]
     },
     "execution_count": 267,
     "metadata": {},
     "output_type": "execute_result"
    }
   ],
   "source": [
    "(h(Msun, 3 * Rsun, 1e6) / Rsun)"
   ]
  },
  {
   "cell_type": "code",
   "execution_count": 231,
   "id": "ca5de5fb-5ca8-4816-ae45-de0552791df7",
   "metadata": {},
   "outputs": [],
   "source": [
    "#everything in stellar radii\n",
    "\n",
    "h_fac = G * Msun / Rsun / cs**2\n",
    "\n",
    "def I(z1, C, rin, rout):\n",
    "\n",
    "    def Ig1(r, z):\n",
    "\n",
    "        return -C * r**-2 * np.exp(-h_fac * z**2 / r**3)\n",
    "\n",
    "    def Int1(z):\n",
    "        \n",
    "        return 2 * np.exp(sp_int.quad(Ig1, rin, rout, args=z)[0]) * np.sqrt(1 - z**2)\n",
    "\n",
    "    Int2 = sp_int.quad(Int1, -z1, z1)\n",
    "\n",
    "    return (Int2[0] / np.pi) \n",
    "\n",
    "I_vec = np.vectorize(I)\n",
    "    \n",
    "    "
   ]
  },
  {
   "cell_type": "code",
   "execution_count": 269,
   "id": "02eda5de-5d03-492a-844c-dbad358485a4",
   "metadata": {},
   "outputs": [
    {
     "data": {
      "text/plain": [
       "23.92344497607656"
      ]
     },
     "execution_count": 269,
     "metadata": {},
     "output_type": "execute_result"
    }
   ],
   "source": [
    "10**-18 * 10**11 * 10**-4 / alphaA"
   ]
  },
  {
   "cell_type": "code",
   "execution_count": 252,
   "id": "b829d6fd-ad08-40a8-b357-1d48c22017f1",
   "metadata": {},
   "outputs": [
    {
     "data": {
      "text/plain": [
       "Text(0.5, 0, 'z')"
      ]
     },
     "execution_count": 252,
     "metadata": {},
     "output_type": "execute_result"
    },
    {
     "data": {
      "image/png": "[encoded data removed]",
      "text/plain": [
       "<Figure size 640x480 with 1 Axes>"
      ]
     },
     "metadata": {},
     "output_type": "display_data"
    }
   ],
   "source": [
    "z = np.linspace(0, 1, 100)\n",
    "\n",
    "plt.plot(z, I_vec(z, 10**-0.5, 4, 8), 'blue')\n",
    "plt.plot(z, I_vec(z, 10**-0.5, 1, 8), 'black')\n",
    "\n",
    "#plt.plot(z, I_vec(z, 10**-0.5))\n",
    "\n",
    "#plt.plot(z, I_vec(z, 100), 'green')\n",
    "\n",
    "#plt.plot(z, I_vec(z, 10**0, 4, 8), 'orange')\n",
    "#plt.plot(z, I_vec(z, 10**0, 1, 8), 'yellow')\n",
    "\n",
    "\n",
    "#plt.plot(z, sp_spec.erfc(z))\n",
    "\n",
    "plt.ylabel('observed flux')\n",
    "plt.xlabel('z')\n",
    "\n"
   ]
  },
  {
   "cell_type": "code",
   "execution_count": 221,
   "id": "e2e5ed96-e293-44b9-9226-8a716b6bbbc6",
   "metadata": {},
   "outputs": [
    {
     "data": {
      "text/plain": [
       "1906125000000000.0"
      ]
     },
     "execution_count": 221,
     "metadata": {},
     "output_type": "execute_result"
    }
   ],
   "source": [
    "h_fac"
   ]
  },
  {
   "cell_type": "code",
   "execution_count": null,
   "id": "114c191f-6ba8-4541-a39f-e0f683a69e50",
   "metadata": {},
   "outputs": [],
   "source": []
  }
 ],
 "metadata": {
  "kernelspec": {
   "display_name": "Python 3 (ipykernel)",
   "language": "python",
   "name": "python3"
  },
  "language_info": {
   "codemirror_mode": {
    "name": "ipython",
    "version": 3
   },
   "file_extension": ".py",
   "mimetype": "text/x-python",
   "name": "python",
   "nbconvert_exporter": "python",
   "pygments_lexer": "ipython3",
   "version": "3.8.18"
  }
 },
 "nbformat": 4,
 "nbformat_minor": 5
}

{
 "cells": [
  {
   "cell_type": "code",
   "execution_count": 1,
   "id": "29089a17-55f0-4a6e-85fa-123fe2c75ac3",
   "metadata": {},
   "outputs": [
    {
     "data": {
      "text/plain": [
       "'/Users/ethan/Work/ChiantiPy/CHIANTI_10.1_database'"
      ]
     },
     "execution_count": 1,
     "metadata": {},
     "output_type": "execute_result"
    }
   ],
   "source": [
    "import os\n",
    "os.environ['XUVTOP']"
   ]
  },
  {
   "cell_type": "code",
   "execution_count": 2,
   "id": "63be983b-85e2-48c6-8712-777d4218d2e1",
   "metadata": {},
   "outputs": [
    {
     "name": "stdout",
     "output_type": "stream",
     "text": [
      " ChiantiPy version 0.15.0 \n",
      " found PyQt5 widgets\n",
      " using PyQt5 widgets\n"
     ]
    }
   ],
   "source": [
    "import ChiantiPy\n",
    "import ChiantiPy.core as ch\n",
    "import ChiantiPy.tools.filters as chfilters\n",
    "import ChiantiPy.tools.io as chio\n",
    "import numpy as np\n",
    "import atomic_species as at\n",
    "import scipy.integrate as sp_int\n",
    "import scipy.interpolate as sp_intpl\n",
    "import matplotlib.pyplot as plt\n",
    "import pandas as pd\n",
    "import constants as const\n",
    "import scipy.special as sp_special\n",
    "import scipy.io as sp_io"
   ]
  },
  {
   "cell_type": "code",
   "execution_count": null,
   "id": "aa7f73eb-d179-4395-9ce0-c940ac95a3aa",
   "metadata": {},
   "outputs": [],
   "source": [
    "mg2 = ch.ion('mg_2', temperature = 1.0, eDensity = 1.0)\n",
    "#mg2.intensity()\n",
    "#mg2.Intensity"
   ]
  },
  {
   "cell_type": "code",
   "execution_count": null,
   "id": "01f490e7-5b5c-4b7d-a7c6-e401da4ac4a9",
   "metadata": {},
   "outputs": [],
   "source": [
    "print(mg2.Wgfa['lvl1'][0])\n",
    "print(mg2.Wgfa.keys())\n",
    "print(mg2.Wgfa['lvl2'][0])\n",
    "print(mg2.Wgfa['wvl'][0])\n",
    "print(mg2.Wgfa['gf'][0])\n",
    "print(mg2.Wgfa['avalue'][0] / 1e8)"
   ]
  },
  {
   "cell_type": "code",
   "execution_count": null,
   "id": "6e8a0de4-2b28-4251-80ee-2a2aa7ade91c",
   "metadata": {},
   "outputs": [],
   "source": [
    "h1 = ch.ion('h_1', temperature = 1.0*10**4, eDensity = 1e5)\n",
    "print((h1.Wgfa['lvl1']))\n",
    "#print(h1.Wgfa.keys())\n",
    "print((h1.Wgfa['lvl2']))\n",
    "print(h1.Wgfa['wvl'])\n",
    "#print(h1.Wgfa['pretty1'])\n",
    "print(h1.Wgfa['pretty2'])\n",
    "print(h1.Wgfa['gf'])\n",
    "print(h1.Wgfa['avalue'])"
   ]
  },
  {
   "cell_type": "code",
   "execution_count": null,
   "id": "4c3836f4-83e1-4d45-b70f-c8df441563f7",
   "metadata": {},
   "outputs": [],
   "source": [
    "lv1 = np.array(mg2.Wgfa['lvl1'])\n",
    "lv2 = np.array(mg2.Wgfa['lvl2'])\n",
    "wvl = np.array(mg2.Wgfa['wvl'])\n",
    "gf = np.array(mg2.Wgfa['gf'])\n",
    "A = np.array(mg2.Wgfa['avalue'])\n",
    "\n",
    "ind = np.argsort(gf[lv1 == 1])[::-1]\n",
    "wvl[lv1 == 1][ind]\n",
    "gf[lv1 == 1][ind]\n",
    "A[lv1 == 1][ind]\n",
    "\n",
    "voigt_xsection(c / (1e-8 * wvl[lv1 == 1][ind]), c / (1e-8 * wvl[lv1 == 1][ind]), gf[lv1 == 1][ind], A[lv1 == 1][ind], 10**4, 24*mp) \n",
    "\n",
    "\n",
    "\n",
    "#len(np.array(mg2.Wgfa['lvl1'])[np.array(mg2.Wgfa['lvl1']) == 1])\n",
    "\n",
    "\n",
    "#np.array(mg2.Wgfa['lvl1']) == 1\n",
    "#ind = np.argpartition(np.array(mg2.Wgfa['gf']), -10000)\n"
   ]
  },
  {
   "cell_type": "code",
   "execution_count": null,
   "id": "25bbc36b-4af8-4e21-ae73-110c3e3ed809",
   "metadata": {},
   "outputs": [],
   "source": [
    "np.array(mg2.Wgfa['lvl1'])[ind]"
   ]
  },
  {
   "cell_type": "code",
   "execution_count": null,
   "id": "44f702f4-c6a0-4696-9343-0d2b9371cc19",
   "metadata": {},
   "outputs": [],
   "source": [
    "def abundance(AE):\n",
    "    return 10**(AE - 12)"
   ]
  },
  {
   "cell_type": "code",
   "execution_count": 3,
   "id": "59d1a822-91b7-421e-ade3-ecce9042bbbd",
   "metadata": {},
   "outputs": [],
   "source": [
    "from PIL import Image, ImageDraw"
   ]
  },
  {
   "cell_type": "code",
   "execution_count": 4,
   "id": "b04f0178-bf84-4488-930d-6fc533c2580f",
   "metadata": {},
   "outputs": [],
   "source": [
    "def disk(center, radius, shape, value=1.0):\n",
    "    \"\"\"\n",
    "    Hidden function used to draw disks with PIL.\n",
    "\n",
    "    Parameters\n",
    "    ----------\n",
    "    center (``int``):\n",
    "        Center of the disk in pixel space.\n",
    "\n",
    "    radius (``int``):\n",
    "        Radius of the disk in number of pixels.\n",
    "\n",
    "    shape (``array-like``):\n",
    "        Shape of the grid in number of pixels.\n",
    "\n",
    "    value (``float``, optional):\n",
    "        Value with which to fill the disk. Default is 1.0.\n",
    "\n",
    "    Returns\n",
    "    -------\n",
    "    disk (``numpy.ndarray``):\n",
    "        Grid containing a drawing of the disk.\n",
    "    \"\"\"\n",
    "    top_left = (center[0] - radius, center[1] - radius)\n",
    "    bottom_right = (center[0] + radius, center[1] + radius)\n",
    "    image = Image.new('1', shape)\n",
    "    draw = ImageDraw.Draw(image)\n",
    "    draw.ellipse([top_left, bottom_right], outline=1, fill=1)\n",
    "    disk = np.reshape(np.array(list(image.getdata())), shape) * value\n",
    "    return disk"
   ]
  },
  {
   "cell_type": "code",
   "execution_count": 7,
   "id": "d371c24a-d91b-4cde-a11d-36c76fed6ff6",
   "metadata": {},
   "outputs": [
    {
     "data": {
      "text/plain": [
       "array([[1., 1.],\n",
       "       [1., 0.]])"
      ]
     },
     "execution_count": 7,
     "metadata": {},
     "output_type": "execute_result"
    }
   ],
   "source": [
    "disk((1 // 2,1 // 2), 1, (2,2))"
   ]
  },
  {
   "cell_type": "code",
   "execution_count": null,
   "id": "0a82a5d2-6603-4345-abb8-a4e7d41f0712",
   "metadata": {},
   "outputs": [],
   "source": []
  }
 ],
 "metadata": {
  "kernelspec": {
   "display_name": "Python 3 (ipykernel)",
   "language": "python",
   "name": "python3"
  },
  "language_info": {
   "codemirror_mode": {
    "name": "ipython",
    "version": 3
   },
   "file_extension": ".py",
   "mimetype": "text/x-python",
   "name": "python",
   "nbconvert_exporter": "python",
   "pygments_lexer": "ipython3",
   "version": "3.8.18"
  }
 },
 "nbformat": 4,
 "nbformat_minor": 5
}

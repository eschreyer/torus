{
 "cells": [
  {
   "cell_type": "code",
   "execution_count": 1,
   "id": "a341bed5-479b-4114-ac93-ef8d79f0b0fb",
   "metadata": {},
   "outputs": [
    {
     "name": "stdout",
     "output_type": "stream",
     "text": [
      " ChiantiPy version 0.15.0 \n",
      " found PyQt5 widgets\n",
      " using PyQt5 widgets\n"
     ]
    }
   ],
   "source": [
    "import ChiantiPy\n",
    "import ChiantiPy.core as ch\n",
    "import ChiantiPy.tools.filters as chfilters\n",
    "import ChiantiPy.tools.io as chio"
   ]
  },
  {
   "cell_type": "code",
   "execution_count": 2,
   "id": "467e37f5-7c4e-4a15-a279-3517736abc9a",
   "metadata": {},
   "outputs": [],
   "source": [
    "mg2 = ch.ion('mg_2', temperature = 1.0, eDensity = 1.0)"
   ]
  },
  {
   "cell_type": "code",
   "execution_count": 5,
   "id": "3fdc6d95-5ca3-4a29-a552-eba9715c70d4",
   "metadata": {},
   "outputs": [
    {
     "data": {
      "text/plain": [
       "<ChiantiPy.core.Ion.ion at 0x7f9168a0bb20>"
      ]
     },
     "execution_count": 5,
     "metadata": {},
     "output_type": "execute_result"
    }
   ],
   "source": [
    "mg2"
   ]
  },
  {
   "cell_type": "code",
   "execution_count": 4,
   "id": "cc55a972-e73f-49ab-b17a-a22162acda97",
   "metadata": {},
   "outputs": [
    {
     "data": {
      "text/plain": [
       "5.478203324612034e-05"
      ]
     },
     "execution_count": 4,
     "metadata": {},
     "output_type": "execute_result"
    }
   ],
   "source": []
  },
  {
   "cell_type": "code",
   "execution_count": null,
   "id": "76e7d837-2566-460d-9b48-c03280ea8038",
   "metadata": {},
   "outputs": [],
   "source": []
  }
 ],
 "metadata": {
  "kernelspec": {
   "display_name": "Python 3 (ipykernel)",
   "language": "python",
   "name": "python3"
  },
  "language_info": {
   "codemirror_mode": {
    "name": "ipython",
    "version": 3
   },
   "file_extension": ".py",
   "mimetype": "text/x-python",
   "name": "python",
   "nbconvert_exporter": "python",
   "pygments_lexer": "ipython3",
   "version": "3.8.18"
  }
 },
 "nbformat": 4,
 "nbformat_minor": 5
}

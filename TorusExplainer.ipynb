{
 "cells": [
  {
   "cell_type": "code",
   "execution_count": 1,
   "id": "b1a84881-62df-40e9-bd02-14c7c14d7984",
   "metadata": {},
   "outputs": [
    {
     "name": "stdout",
     "output_type": "stream",
     "text": [
      " ChiantiPy version 0.15.0 \n",
      " found PyQt5 widgets\n",
      " using PyQt5 widgets\n"
     ]
    }
   ],
   "source": [
    "import scipy.io as sp_io\n",
    "import scipy.integrate as sp_int\n",
    "import importlib\n",
    "import torus\n",
    "from copy import deepcopy\n",
    "import matplotlib.pyplot as plt\n",
    "import numpy as np"
   ]
  },
  {
   "cell_type": "code",
   "execution_count": 2,
   "id": "da80432f-2e76-4d69-a4e4-dd43292e93c1",
   "metadata": {},
   "outputs": [],
   "source": [
    "#constants \n",
    "c = 2.9979e10\n",
    "mp = 1.67e-24\n",
    "k_b = 1.3807e-16\n",
    "m_e = 9.11e-28\n",
    "e = 4.803e-10\n",
    "G = 6.67e-8"
   ]
  },
  {
   "cell_type": "code",
   "execution_count": 3,
   "id": "406f6335-72a7-4297-8665-c2cad69a205c",
   "metadata": {},
   "outputs": [],
   "source": [
    "#this file reads in the spectrum of the star, which is required to calculate ionization-recombination in the gas. We will use a solar spectrum for now\n",
    "\n",
    "##turn .sav file of solar spectrum into usable python solar spectrum \n",
    "\"\"\"** Structure <20abc08>, 6 tags, length=165722064, data length=165722064, refs=1:\n",
    "   WAVELENGTH      FLOAT     Array[920]\t\t\t(nm)\n",
    "   DATE_YD         DOUBLE    Array[14989]\t\t(YYYYDOY date format)\n",
    "   DATE_JD         DOUBLE    Array[14989]\t\t(Julian Day format)\n",
    "   IRRADIANCE      FLOAT     Array[14989, 920]\t(mW/m^2/nm)\n",
    "   FLAG_SOURCE     FLOAT     Array[14989, 920]\t(number from -1 to 139 that represents data source)\n",
    "   MODEL           FLOAT     Array[14989, 920]\t(mW/m^2/nm)\n",
    "   UNCERTAINTY_IRRADIANCE   FLOAT     Array[920]    (unitless, % relative accuracy)\n",
    "   UNCERTAINTY_MODEL        FLOAT     Array[920]    (unitless, % relative accuracy)\"\"\"\n",
    "\n",
    "\n",
    "\n",
    "ss_idl = sp_io.readsav('ssi3_ext_0nm_1600nm.sav')\n",
    "ss_wav = ss_idl['ssi3_ext'][0][0] #nm\n",
    "ss_irr = ss_idl['ssi3_ext'][0][3][:, 1000] #mw/m^2/nm\n",
    "ss_mod = ss_idl['ssi3_ext'][0][5][:, 1000] #mw/m^2/nm\n",
    "\n",
    "#turn into cgs\n",
    "ss_wav_cgs = ss_wav * 1e-7\n",
    "ss_irr_cgs = ss_irr * 1e7\n",
    "ss_nu_cgs = c / ss_wav_cgs\n",
    "ss_irr_nu_cgs = ss_irr_cgs * ss_wav_cgs**2 / c\n",
    "\n",
    "ss = {'wl' : ss_wav_cgs, 'F_wl' : ss_irr_cgs, 'nu' : ss_nu_cgs, 'F_nu' : ss_irr_nu_cgs}\n",
    "\n",
    "#we keep the shape of the spectrum the same but change the magnitude. (I.e stronger light)\n",
    "\n",
    "def normalize_spectrum(stellar_spectrum, Feuv, euv_range = [1e-6, 1.17e-5]):\n",
    "\n",
    "    normalized_stellar_spectrum = deepcopy(stellar_spectrum)\n",
    "    euv_mask = (stellar_spectrum['wl'] > euv_range[0]) & (stellar_spectrum['wl'] < euv_range[1])\n",
    "    Feuv_ss = sp_int.trapezoid(stellar_spectrum['F_wl'][euv_mask], stellar_spectrum['wl'][euv_mask])\n",
    "    normalized_stellar_spectrum['F_wl'] *= (Feuv / Feuv_ss)\n",
    "    normalized_stellar_spectrum['F_nu'] *= (Feuv / Feuv_ss)\n",
    "    \n",
    "    return normalized_stellar_spectrum\n",
    "\n",
    "#normalize EUV flux hitting planet\n",
    "norm_ss = normalize_spectrum(ss, 10**4)\n",
    "\n",
    "#for those changing stellar spectrum, you want to change this number (10**4 above) and see how that affects results"
   ]
  },
  {
   "cell_type": "code",
   "execution_count": 8,
   "id": "404c49c5-5bbc-49b8-9d9e-fe375eb07cd5",
   "metadata": {},
   "outputs": [
    {
     "name": "stdout",
     "output_type": "stream",
     "text": [
      "0.000284741836367175\n",
      "(312, 400)\n",
      "282.6608391851212\n"
     ]
    }
   ],
   "source": [
    "myTorus = torus.Torus(species = {'h': 1, 'he' : 0.11}, stellar_spectrum = norm_ss, Ms = 1e33, Rs = 7e10, ap = 0.02*1.5e13, T = 10**4, D = 0.02*1.5e13, nH = 1e7)\n",
    "\n",
    "#species - dictionary of included species \n",
    "#Ms - mass of star\n",
    "#Rs - radius of star\n",
    "#ap - orbital distance of planet\n",
    "#T - temperature of gas\n",
    "#D - size of disc\n",
    "#nH - number density of hydrogen in torus\n",
    "\n",
    "#I want you to change these parameters and see how the equivalent width varies \n",
    "\n",
    "myTorus.calculate_ion_abundances_all_species()\n",
    "EW = myTorus.get_EW()\n",
    "\n",
    "print(EW)\n",
    "\n",
    "#what i want you to do is make a plot of how the equivalent width changes as a function of the parameter you are changing (maybe do 10 points).\n",
    "#remember the equivalent width is the area inclosed by the curve of the spectrum (see below)\n",
    "#for some parameters you will want to vary them logorithmically and some linearly - think why that is\n",
    "#try and explain why the EW width is varying in this way physically \n"
   ]
  },
  {
   "cell_type": "code",
   "execution_count": 17,
   "id": "c85153bf-a426-47f9-95b0-c518c14a85bc",
   "metadata": {},
   "outputs": [
    {
     "data": {
      "text/plain": [
       "Text(0, 0.5, 'normalized flux')"
      ]
     },
     "execution_count": 17,
     "metadata": {},
     "output_type": "execute_result"
    },
    {
     "data": {
      "image/png": "[encoded data removed]",
      "text/plain": [
       "<Figure size 640x480 with 1 Axes>"
      ]
     },
     "metadata": {},
     "output_type": "display_data"
    }
   ],
   "source": [
    "#this is an example absorption spectrum\n",
    "#this is showing how much of the stellar light is absorbed at each wavelength. 1 means none of it is absorbed. 0 means all of it\n",
    "#the equivalent width is the area of the above the curve bounded by the line y=1, i.e the shaded region\n",
    "\n",
    "wavgrid = np.linspace(1.0828e-4, 1.0833e-4, 400)\n",
    "#intensity = myTorus.do_transit_He()\n",
    "constline = np.ones(len(wavgrid))\n",
    "\n",
    "fig, ax = plt.subplots()\n",
    "ax.plot(wavgrid, intensity)\n",
    "ax.fill_between(wavgrid, intensity, 1)\n",
    "ax.set_xlabel('wavelength (cm)')\n",
    "ax.set_ylabel('normalized flux')"
   ]
  },
  {
   "cell_type": "code",
   "execution_count": null,
   "id": "1461c7b1-9ec7-425c-ba04-c3e22e9e6c97",
   "metadata": {},
   "outputs": [],
   "source": []
  }
 ],
 "metadata": {
  "kernelspec": {
   "display_name": "Python 3 (ipykernel)",
   "language": "python",
   "name": "python3"
  },
  "language_info": {
   "codemirror_mode": {
    "name": "ipython",
    "version": 3
   },
   "file_extension": ".py",
   "mimetype": "text/x-python",
   "name": "python",
   "nbconvert_exporter": "python",
   "pygments_lexer": "ipython3",
   "version": "3.8.18"
  }
 },
 "nbformat": 4,
 "nbformat_minor": 5
}

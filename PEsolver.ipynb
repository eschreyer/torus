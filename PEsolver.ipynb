{
 "cells": [
  {
   "cell_type": "code",
   "execution_count": 1,
   "id": "0641dff7-66b3-4657-9f4b-9cae8b676651",
   "metadata": {},
   "outputs": [
    {
     "name": "stdout",
     "output_type": "stream",
     "text": [
      " ChiantiPy version 0.15.0 \n",
      " found PyQt5 widgets\n",
      " using PyQt5 widgets\n"
     ]
    }
   ],
   "source": [
    "import ChiantiPy\n",
    "import ChiantiPy.core as ch\n",
    "import ChiantiPy.tools.filters as chfilters\n",
    "import ChiantiPy.tools.io as chio\n",
    "import numpy as np\n",
    "import atomic_species as at\n",
    "import scipy.integrate as sp_int\n",
    "import scipy.interpolate as sp_intpl\n",
    "import matplotlib.pyplot as plt\n",
    "import pandas as pd\n",
    "import constants as const\n",
    "import scipy.special as sp_special\n",
    "import scipy.io as sp_io\n",
    "import star_grid_new as sg\n",
    "from copy import deepcopy\n",
    "import functools as ft\n",
    "from astropy.io import fits\n",
    "import h5py\n",
    "from flatstar import draw, utils"
   ]
  },
  {
   "cell_type": "code",
   "execution_count": 2,
   "id": "a15db7cd-c372-4885-ac21-e2cdc942de89",
   "metadata": {},
   "outputs": [],
   "source": [
    "#constants \n",
    "\n",
    "c = 2.9979e10\n",
    "mp = 1.67e-24\n",
    "k_b = 1.3807e-16\n",
    "m_e = 9.11e-28\n",
    "e = 4.803e-10\n",
    "G = 6.67e-8"
   ]
  },
  {
   "cell_type": "code",
   "execution_count": 3,
   "id": "5a96e908-de53-4bab-8a8f-39fe1dfb4a48",
   "metadata": {},
   "outputs": [],
   "source": [
    "##turn .sav file of solar spectrum into usable python solar spectrum \n",
    "\"\"\"** Structure <20abc08>, 6 tags, length=165722064, data length=165722064, refs=1:\n",
    "   WAVELENGTH      FLOAT     Array[920]\t\t\t(nm)\n",
    "   DATE_YD         DOUBLE    Array[14989]\t\t(YYYYDOY date format)\n",
    "   DATE_JD         DOUBLE    Array[14989]\t\t(Julian Day format)\n",
    "   IRRADIANCE      FLOAT     Array[14989, 920]\t(mW/m^2/nm)\n",
    "   FLAG_SOURCE     FLOAT     Array[14989, 920]\t(number from -1 to 139 that represents data source)\n",
    "   MODEL           FLOAT     Array[14989, 920]\t(mW/m^2/nm)\n",
    "   UNCERTAINTY_IRRADIANCE   FLOAT     Array[920]    (unitless, % relative accuracy)\n",
    "   UNCERTAINTY_MODEL        FLOAT     Array[920]    (unitless, % relative accuracy)\"\"\"\n",
    "\n",
    "\n",
    "\n",
    "ss_idl = sp_io.readsav('ssi3_ext_0nm_1600nm.sav')\n",
    "ss_wav = ss_idl['ssi3_ext'][0][0] #nm\n",
    "ss_irr = ss_idl['ssi3_ext'][0][3][:, 1000] #mw/m^2/nm\n",
    "ss_mod = ss_idl['ssi3_ext'][0][5][:, 1000] #mw/m^2/nm\n",
    "\n",
    "#turn into cgs\n",
    "ss_wav_cgs = ss_wav * 1e-7\n",
    "ss_irr_cgs = ss_irr * 1e7\n",
    "ss_nu_cgs = c / ss_wav_cgs\n",
    "ss_irr_nu_cgs = ss_irr_cgs * ss_wav_cgs**2 / c\n",
    "\n",
    "ss = {'wl' : ss_wav_cgs, 'F_wl' : ss_irr_cgs, 'nu' : ss_nu_cgs, 'F_nu' : ss_irr_nu_cgs}\n",
    "\n",
    "def normalize_spectrum(stellar_spectrum, Feuv, euv_range = [1e-6, 1.17e-5]):\n",
    "\n",
    "    normalized_stellar_spectrum = deepcopy(stellar_spectrum)\n",
    "    euv_mask = (stellar_spectrum['wl'] > euv_range[0]) & (stellar_spectrum['wl'] < euv_range[1])\n",
    "    Feuv_ss = sp_int.trapezoid(stellar_spectrum['F_wl'][euv_mask], stellar_spectrum['wl'][euv_mask])\n",
    "    normalized_stellar_spectrum['F_wl'] *= (Feuv / Feuv_ss)\n",
    "    normalized_stellar_spectrum['F_nu'] *= (Feuv / Feuv_ss)\n",
    "    \n",
    "    return normalized_stellar_spectrum\n",
    "\n",
    "norm_ss = normalize_spectrum(ss, 10**3)"
   ]
  },
  {
   "cell_type": "code",
   "execution_count": 4,
   "id": "29c01843-2d23-497a-8b6e-5f474138dc7d",
   "metadata": {},
   "outputs": [],
   "source": [
    "#get star spectra from fits \n",
    "\n",
    "def get_spectra(fits_file):\n",
    "    spec = fits.getdata(fits_file,1)\n",
    "    wav = spec['WAVELENGTH'] * 1e-8       #in angstroms so turn into cgs \n",
    "    irr_wav = spec['FLUX'] * 1e8          \n",
    "    nu = c / wav\n",
    "    irr_nu = irr_wav * wav**2 / c\n",
    "    return {'wl' : wav, 'F_wl': irr_wav, 'nu' : nu, 'F_nu' : irr_nu}\n",
    "\n",
    "K6 = get_spectra('hlsp_muscles_multi_multi_hd85512_broadband_v22_adapt-const-res-sed.fits')\n",
    "K2 = get_spectra('hlsp_muscles_multi_multi_v-eps-eri_broadband_v22_adapt-const-res-sed.fits')\n",
    "G5 = get_spectra('hlsp_muscles_multi_multi_wasp-127_broadband_v24_adapt-const-res-sed.fits')\n",
    "F4 = get_spectra('hlsp_muscles_multi_multi_wasp-43_broadband_v24_adapt-const-res-sed.fits')\n",
    "\n",
    "norm_F4 = normalize_spectrum(F4, 10**3)"
   ]
  },
  {
   "cell_type": "markdown",
   "id": "e444e8c7-ba65-45c2-bf19-9e334867dbaa",
   "metadata": {},
   "source": [
    "## Photoionization Equilibrium Solver"
   ]
  },
  {
   "cell_type": "code",
   "execution_count": 5,
   "id": "95409acb-76aa-4dfb-a7ea-3a24a5a9d246",
   "metadata": {},
   "outputs": [],
   "source": [
    "Zelem_lc = {'h':1, 'he':2, 'li':3, 'be':4, 'b':5, 'c':6, 'n':7,\n",
    "              'o':8, 'f':9,'ne':10, 'na':11, 'mg':12, 'al':13,\n",
    "              'si':14, 's':16, 'ar':18, 'ca':20, 'fe':26}\n",
    "\n",
    "Aelem_lc = {'h':1,'he': 4,'li': 6,'be': 8,'b': 10,'c': 12,'n': 14,\n",
    "              'o': 16,'f': 18,'ne': 20,'na': 22,'mg': 24,'al': 26,\n",
    "              'si': 28,'s': 32,'ar': 36,'ca': 40,'fe': 52}\n",
    "\n",
    "\n",
    "#get photoionization rates for atoms froms Verner.csv\n",
    "def get_phion_rates(species, stellar_spectrum):\n",
    "    #species in chianti format (need to change to McAstro format)\n",
    "    Z = Zelem_lc[species]\n",
    "    phion_rates = np.zeros(Z, 'float64')\n",
    "\n",
    "    F_nu, nu = stellar_spectrum['F_nu'], stellar_spectrum['nu']\n",
    "\n",
    "    for i in range(Z):\n",
    "        ion = at.atomic_species(species.capitalize() + ' ' + at.arabic_to_roman(i+1))\n",
    "        phion_rate = np.abs(sp_int.trapezoid(F_nu * ion.cross_section(nu * const.h * const.erg) / (const.h * nu), nu))\n",
    "        phion_rates[i] = phion_rate\n",
    "\n",
    "    return phion_rates\n",
    "\n",
    "#get helium triplet state photoionization rate\n",
    "#ionization data from Norcross (1971)\n",
    "def get_triplet_rate(stellar_spectrum):\n",
    "    \n",
    "    F_nu, nu = stellar_spectrum['F_nu'][::-1], stellar_spectrum['nu'][::-1]\n",
    "    xs_He3_data = pd.read_csv('HeMetastableData.csv', skiprows = 1)\n",
    "    w = c / (data['wvl'].values * 1e-8)\n",
    "    F_w = np.interp(w, nu, F_nu)\n",
    "    He3_phion_rate = sp_int.simpson(F_w * data['sigma'].values * 8.067e-18 / (const.h * w), x = w)\n",
    "    \n",
    "    return He3_phion_rate\n",
    "    \n",
    "\n",
    "#get recombination rate from chianti\n",
    "def get_rr_rates(species, T):\n",
    "\n",
    "    #get atomic Z of species\n",
    "    Z = Zelem_lc[species]\n",
    "    rr_rates = np.zeros(Z, 'float64')\n",
    "\n",
    "    #loop through chianti to get recombination rates\n",
    "    for i in range(Z):\n",
    "        ion = ch.ion(f'{species}_{i + 2}', temperature = T, setup=0)\n",
    "        ion.recombRate()\n",
    "        rr_rates[i] = ion.RecombRate['rate'][0]\n",
    "\n",
    "    return rr_rates"
   ]
  },
  {
   "cell_type": "code",
   "execution_count": 6,
   "id": "0f2b5c11-a54c-4d31-a9cb-105b994e665d",
   "metadata": {},
   "outputs": [],
   "source": [
    "def Arrhenius(A, B, C, T):\n",
    "    return A * T**B * np.exp(-C / T)"
   ]
  },
  {
   "cell_type": "code",
   "execution_count": 56,
   "id": "59d95d9c-80db-4dea-9877-f00d0c397751",
   "metadata": {},
   "outputs": [],
   "source": [
    "#photoionization solver hydrogen\n",
    "def flux_averaged_xs(species, stellar_spectrum):\n",
    "\n",
    "    Z = Zelem_lc[species]\n",
    "    flux_averaged_xs = np.zeros(Z, 'float64')\n",
    "\n",
    "    wvl_mask = (stellar_spectrum['wl'] < 9.12e-6) & (stellar_spectrum['wl'] > 1e-6) #only include hydrogen ionizing rad\n",
    "    \n",
    "    F_nu, nu = stellar_spectrum['F_nu'][wvl_mask], stellar_spectrum['nu'][wvl_mask]\n",
    "\n",
    "    for i in range(Z):\n",
    "        ion = at.atomic_species(species.capitalize() + ' ' + at.arabic_to_roman(i+1))\n",
    "        xs = np.abs(sp_int.trapezoid(F_nu * ion.cross_section(nu * const.h * const.erg), x = nu) /\n",
    "                sp_int.trapezoid(F_nu, x = nu))\n",
    "    \n",
    "        flux_averaged_xs[i] = xs\n",
    "    \n",
    "    return xs\n",
    "\n",
    "def cum_phot_rate(species, stellar_spectrum):\n",
    "\n",
    "    Z = Zelem_lc[species]\n",
    "\n",
    "    wvl_mask = stellar_spectrum['wl'] < 9.12e-6\n",
    "    \n",
    "    F_nu, nu, wl = stellar_spectrum['F_nu'][wvl_mask][::-1], stellar_spectrum['nu'][wvl_mask][::-1], stellar_spectrum['wl'][wvl_mask][::-1]\n",
    "\n",
    "    cumgamma = np.zeros((Z, len(nu)), 'float64')\n",
    "\n",
    "    for i in range(Z):\n",
    "        ion = at.atomic_species(species.capitalize() + ' ' + at.arabic_to_roman(i+1))\n",
    "        gamma = np.abs(sp_int.cumulative_trapezoid(F_nu * ion.cross_section(nu * const.h * const.erg) / (const.h * nu), x = nu, initial=0)) \n",
    "    \n",
    "        cumgamma[i, :] = gamma\n",
    "    \n",
    "    return gamma, wl, nu\n",
    "\n",
    "    \n",
    "    \n",
    "\n",
    "def get_nHI(nH, gamma, rr):\n",
    "    nHI = nH * (1 + (gamma - np.sqrt(gamma**2 + 4 * rr * nH * gamma)) / (2 * rr * nH))\n",
    "    return nHI\n",
    "\n",
    "def get_ne(nH, gamma, rr):\n",
    "    return nH - get_nHI(nH, gamma, rr)\n",
    "\n",
    "def get_tau_phot(nH, gamma, rr, D, stellar_spectrum):\n",
    "    xs = flux_averaged_xs('h', stellar_spectrum)\n",
    "    return nHI(nH, gamma, rr) * xs * D\n",
    "\n",
    "def get_nH(tau, gamma, rr, D, stellar_spectrum):\n",
    "    xs = flux_averaged_xs('h', stellar_spectrum)\n",
    "    return tau / (D * xs_phot) + np.sqrt((tau * gamma) / (rr * D * xs_phot))\n",
    "\n",
    "\n",
    "class HPhESolver:\n",
    "    #class to calculate number hydrogen and protons\n",
    "    def __init__(self, stellar_spectrum, nH):\n",
    "        self.stellar_spectrum = stellar_spectrum\n",
    "        self.nH = nH\n",
    "\n",
    "    def calculate_abundances(self, T):\n",
    "        phi_rate = get_phion_rates('h', self.stellar_spectrum)[0]\n",
    "        rr_rate = get_rr_rates('h', T)[0]\n",
    "        nHI = get_nHI(self.nH, phi_rate, rr_rate)\n",
    "        nHII = get_ne(self.nH, phi_rate, rr_rate)\n",
    "        return np.array([nHI, nHII]) / self.nH\n",
    "\n",
    "#for all other elements, we assume that the electron number density is dominated by hydrogen ionization, so we assume all electrons from hydrogen \n"
   ]
  },
  {
   "cell_type": "code",
   "execution_count": 29,
   "id": "d833ea04-84af-43a7-be47-78968e0a4a0b",
   "metadata": {},
   "outputs": [
    {
     "data": {
      "text/plain": [
       "9.26163e-19"
      ]
     },
     "execution_count": 29,
     "metadata": {},
     "output_type": "execute_result"
    }
   ],
   "source": [
    "flux_averaged_xs('h', norm_ss)"
   ]
  },
  {
   "cell_type": "code",
   "execution_count": 57,
   "id": "0c9e8869-6e12-413a-8eb6-8fcaf19ed1fc",
   "metadata": {},
   "outputs": [],
   "source": [
    "gamma, wl, nu = cum_phot_rate('h', norm_ss)"
   ]
  },
  {
   "cell_type": "code",
   "execution_count": 68,
   "id": "81cfb290-2a2b-4538-8b1d-d79b9ba8f95b",
   "metadata": {},
   "outputs": [
    {
     "data": {
      "text/plain": [
       "Text(0, 0.5, 'cumulative photoionization rate')"
      ]
     },
     "execution_count": 68,
     "metadata": {},
     "output_type": "execute_result"
    },
    {
     "data": {
      "image/png": "[encoded data removed]",
      "text/plain": [
       "<Figure size 640x480 with 1 Axes>"
      ]
     },
     "metadata": {},
     "output_type": "display_data"
    }
   ],
   "source": [
    "plt.plot(np.log10(nu*const.h*const.erg), gamma)\n",
    "plt.xlabel('photon eV')\n",
    "plt.ylabel('cumulative photoionization rate')"
   ]
  },
  {
   "cell_type": "code",
   "execution_count": 14,
   "id": "afa4ffae-9a19-4744-ab91-556524f2d31f",
   "metadata": {},
   "outputs": [
    {
     "data": {
      "text/plain": [
       "<atomic_species.atomic_species at 0x7fa3e8ace700>"
      ]
     },
     "execution_count": 14,
     "metadata": {},
     "output_type": "execute_result"
    }
   ],
   "source": [
    "at.atomic_species('H I')"
   ]
  },
  {
   "cell_type": "code",
   "execution_count": 135,
   "id": "e5f3b907-5b9a-4e9a-bec1-912529ce6f9c",
   "metadata": {},
   "outputs": [],
   "source": [
    "#traditional oklopcic helium solver \n",
    "\n",
    "class HePhESolver:\n",
    "    #class to calculate number of helium atoms in them singlet, triplet, singly ionized and doubly ionized states\n",
    "    def __init__(self, stellar_spectrum, nHI, ne):\n",
    "        self.stellar_spectrum = stellar_spectrum\n",
    "        self.nHI = nHI\n",
    "        self.ne = ne\n",
    "\n",
    "\n",
    "    def calculate_abundances(self, T):\n",
    "        \n",
    "        #electron/hydrogen collisional population/depopulation rates\n",
    "        q13a = Arrhenius(7.79e-7, -0.531, 2.305395e5, T)   #cm^3s^-1 He11S -> He23S #Matthaus\n",
    "        q31a = Arrhenius(3.78e-5, -0.69, 1.015499e4, T)    #cm^3s^-1 He23S -> He21S #Matthaus\n",
    "        q31b = Arrhenius(1.52e-6, -0.438, 1.693126e4, T)   #cm^3s^-1 He23S -> He21P #Matthaus\n",
    "        Q31 = 5e-10    #cm^3s^-1 He23S -> He11S\n",
    "\n",
    "        #radiative decay \n",
    "        A31 = 1.272e-4 #s^-1\n",
    "\n",
    "        #photoionization rates\n",
    "        phi1 = get_phion_rates('he', self.stellar_spectrum)[0]\n",
    "        phi3 = get_triplet_rate(self.stellar_spectrum)\n",
    "        phiHeII = get_phion_rates('he', self.stellar_spectrum)[1]\n",
    "\n",
    "        #recombination rates\n",
    "        alpha1 = Arrhenius(2.20e-10, -0.678, 0, T) - Arrhenius(2.717e-10, -0.778, 0, T)   #from Benjamin 1999, case A He+ -> He minus amount into triplet\n",
    "        alpha3 = Arrhenius(2.717e-10, -0.778, 0, T)  #Allan\n",
    "        alphaHeIII = get_rr_rates('he', np.float64(T))[1]\n",
    "\n",
    "        M = np.zeros((4, 4))\n",
    "        M[0, :] = np.array([-self.ne * alpha1 - phi1 - q13a * self.ne, -self.ne * alpha1 + A31 + q31a * self.ne + q31b * self.ne + Q31 * self.nHI, 0, -self.ne * alpha1])\n",
    "        M[1, :] = np.array([-self.ne * alpha3 + q13a * self.ne, -self.ne * alpha1 - phi3 - A31 - q31a * self.ne - q31b * self.ne - Q31 * self.nHI, 0, -self.ne * alpha3])\n",
    "        M[2, :] = np.array([0, 0, phiHeII, - alphaHeIII * self.ne])\n",
    "        M[3, :] = np.ones(4)\n",
    "\n",
    "        o = np.array([-self.ne * alpha1, -self.ne * alpha3, 0, 1])\n",
    "\n",
    "        abundances = np.linalg.solve(M, o)\n",
    "\n",
    "        return abundances  "
   ]
  },
  {
   "cell_type": "code",
   "execution_count": null,
   "id": "9211459f-3541-45d3-9fc6-d5b3dd08422b",
   "metadata": {},
   "outputs": [],
   "source": [
    "#matthaus helium solver\n",
    "\n",
    "class HePhESolver:\n",
    "    #class to calculate number of helium atoms in them singlet, triplet, singly ionized and doubly ionized states\n",
    "    def __init__(self, stellar_spectrum, nHI, ne):\n",
    "        self.stellar_spectrum = stellar_spectrum\n",
    "        self.nHI = nHI\n",
    "        self.ne = ne\n",
    "\n",
    "    def calculate_abundances(self, T):\n",
    "        \n",
    "        #electron/hydrogen collisional population/depopulation rates\n",
    "        q13a = Arrhenius(7.79e-7, -0.531, 2.305395e5, T)   #cm^3s^-1 He11S -> He23S #Matthaus\n",
    "        q31a = Arrhenius(3.78e-5, -0.69, 1.015499e4, T)    #cm^3s^-1 He23S -> He21S #Matthaus\n",
    "        q31b = Arrhenius(1.52e-6, -0.438, 1.693126e4, T)   #cm^3s^-1 He23S -> He21P #Matthaus\n",
    "        Q31 = 5e-10    #cm^3s^-1 He23S -> He11S\n",
    "\n",
    "        #radiative decay \n",
    "        A31 = 1.272e-4 #s^-1\n",
    "\n",
    "        #photoionization rates\n",
    "        phi1 = get_phion_rates('he', self.stellar_spectrum)[0]\n",
    "        phi3 = get_triplet_rate(self.stellar_spectrum)\n",
    "        phiHeII = get_phion_rates('he', self.stellar_spectrum)[1]\n",
    "\n",
    "        #recombination rates\n",
    "        alpha1 = Arrhenius(2.20e-10, -0.678, 0, T) - Arrhenius(2.717e-10, -0.778, 0, T)   #from Benjamin 1999, case A He+ -> He minus amount into triplet\n",
    "        alpha3 = Arrhenius(2.717e-10, -0.778, 0, T)  #Allan\n",
    "        alphaHeIII = get_rr_rates('he', np.float64(T))[1]"
   ]
  },
  {
   "cell_type": "code",
   "execution_count": 129,
   "id": "4fee04e9-0175-487a-8e21-fe0a69700464",
   "metadata": {},
   "outputs": [],
   "source": [
    "#all other elements\n",
    "\n",
    "class PhESolver:\n",
    "    #class to calculate \n",
    "    def __init__(self, species, stellar_spectrum, n_e):\n",
    "        self.species = species #insert in chianti form\n",
    "        self.stellar_spectrum = stellar_spectrum #if there's a stellar spectrum available\n",
    "        self.n_e = n_e\n",
    "\n",
    "    def getZ(self):\n",
    "        return Zelem_lc[self.species]\n",
    "\n",
    "    def calculate_abundances(self, T):\n",
    "        Z = self.getZ()\n",
    "        \n",
    "        phi_rates = np.concatenate((get_phion_rates(self.species, self.stellar_spectrum), np.array([0.0])))\n",
    "        rr_rates = get_rr_rates(self.species, np.float64(T))\n",
    "        \n",
    "        M = np.zeros((Z+1,Z+1))\n",
    "        M[-1,:] = 1\n",
    "        M += np.diag(phi_rates, 0) - np.diag(rr_rates, 1) * self.n_e\n",
    "        \n",
    "        o = np.zeros(Z+1)\n",
    "        o[-1] = 1\n",
    "\n",
    "        abundances = np.linalg.solve(M, o)\n",
    "\n",
    "        return abundances"
   ]
  }
 ],
 "metadata": {
  "kernelspec": {
   "display_name": "Python 3 (ipykernel)",
   "language": "python",
   "name": "python3"
  },
  "language_info": {
   "codemirror_mode": {
    "name": "ipython",
    "version": 3
   },
   "file_extension": ".py",
   "mimetype": "text/x-python",
   "name": "python",
   "nbconvert_exporter": "python",
   "pygments_lexer": "ipython3",
   "version": "3.8.18"
  }
 },
 "nbformat": 4,
 "nbformat_minor": 5
}

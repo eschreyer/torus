{
 "cells": [
  {
   "cell_type": "code",
   "execution_count": 1,
   "metadata": {},
   "outputs": [
    {
     "name": "stdout",
     "output_type": "stream",
     "text": [
      " ChiantiPy version 0.15.0 \n",
      " found PyQt5 widgets\n",
      " using PyQt5 widgets\n"
     ]
    }
   ],
   "source": [
    "import scipy.io as sp_io\n",
    "import scipy.integrate as sp_int\n",
    "import importlib\n",
    "import torus\n",
    "from copy import deepcopy\n",
    "import matplotlib.pyplot as plt\n",
    "import numpy as np"
   ]
  },
  {
   "cell_type": "code",
   "execution_count": 2,
   "metadata": {},
   "outputs": [],
   "source": [
    "#constants \n",
    "\n",
    "c = 2.9979e10\n",
    "mp = 1.67e-24\n",
    "k_b = 1.3807e-16\n",
    "m_e = 9.11e-28\n",
    "e = 4.803e-10\n",
    "G = 6.67e-8"
   ]
  },
  {
   "cell_type": "code",
   "execution_count": 3,
   "metadata": {},
   "outputs": [],
   "source": [
    "##turn .sav file of solar spectrum into usable python solar spectrum \n",
    "\"\"\"** Structure <20abc08>, 6 tags, length=165722064, data length=165722064, refs=1:\n",
    "   WAVELENGTH      FLOAT     Array[920]\t\t\t(nm)\n",
    "   DATE_YD         DOUBLE    Array[14989]\t\t(YYYYDOY date format)\n",
    "   DATE_JD         DOUBLE    Array[14989]\t\t(Julian Day format)\n",
    "   IRRADIANCE      FLOAT     Array[14989, 920]\t(mW/m^2/nm)\n",
    "   FLAG_SOURCE     FLOAT     Array[14989, 920]\t(number from -1 to 139 that represents data source)\n",
    "   MODEL           FLOAT     Array[14989, 920]\t(mW/m^2/nm)\n",
    "   UNCERTAINTY_IRRADIANCE   FLOAT     Array[920]    (unitless, % relative accuracy)\n",
    "   UNCERTAINTY_MODEL        FLOAT     Array[920]    (unitless, % relative accuracy)\"\"\"\n",
    "\n",
    "\n",
    "\n",
    "ss_idl = sp_io.readsav('ssi3_ext_0nm_1600nm.sav')\n",
    "ss_wav = ss_idl['ssi3_ext'][0][0] #nm\n",
    "ss_irr = ss_idl['ssi3_ext'][0][3][:, 1000] #mw/m^2/nm\n",
    "ss_mod = ss_idl['ssi3_ext'][0][5][:, 1000] #mw/m^2/nm\n",
    "\n",
    "#turn into cgs\n",
    "ss_wav_cgs = ss_wav * 1e-7\n",
    "ss_irr_cgs = ss_irr * 1e7\n",
    "ss_nu_cgs = c / ss_wav_cgs\n",
    "ss_irr_nu_cgs = ss_irr_cgs * ss_wav_cgs**2 / c\n",
    "\n",
    "ss = {'wl' : ss_wav_cgs, 'F_wl' : ss_irr_cgs, 'nu' : ss_nu_cgs, 'F_nu' : ss_irr_nu_cgs}\n",
    "\n",
    "def normalize_spectrum(stellar_spectrum, Feuv, euv_range = [1e-6, 1.17e-5]):\n",
    "\n",
    "    normalized_stellar_spectrum = deepcopy(stellar_spectrum)\n",
    "    euv_mask = (stellar_spectrum['wl'] > euv_range[0]) & (stellar_spectrum['wl'] < euv_range[1])\n",
    "    Feuv_ss = sp_int.trapezoid(stellar_spectrum['F_wl'][euv_mask], stellar_spectrum['wl'][euv_mask])\n",
    "    normalized_stellar_spectrum['F_wl'] *= (Feuv / Feuv_ss)\n",
    "    normalized_stellar_spectrum['F_nu'] *= (Feuv / Feuv_ss)\n",
    "    \n",
    "    return normalized_stellar_spectrum\n",
    "\n",
    "norm_ss = normalize_spectrum(ss, 10**4)"
   ]
  },
  {
   "cell_type": "code",
   "execution_count": 4,
   "metadata": {},
   "outputs": [
    {
     "ename": "TypeError",
     "evalue": "'float' object is not subscriptable",
     "output_type": "error",
     "traceback": [
      "\u001b[0;31m---------------------------------------------------------------------------\u001b[0m",
      "\u001b[0;31mTypeError\u001b[0m                                 Traceback (most recent call last)",
      "Cell \u001b[0;32mIn[4], line 13\u001b[0m\n\u001b[1;32m      1\u001b[0m \u001b[38;5;66;03m#Torus parameters \u001b[39;00m\n\u001b[1;32m      2\u001b[0m \n\u001b[1;32m      3\u001b[0m \u001b[38;5;66;03m#elements (in ratio compared to hydrogen)\u001b[39;00m\n\u001b[0;32m   (...)\u001b[0m\n\u001b[1;32m      9\u001b[0m \u001b[38;5;66;03m#disc radius\u001b[39;00m\n\u001b[1;32m     10\u001b[0m \u001b[38;5;66;03m#optical depth of gas to 13.6ev radiation\u001b[39;00m\n\u001b[0;32m---> 13\u001b[0m testTorus \u001b[38;5;241m=\u001b[39m \u001b[43mtorus\u001b[49m\u001b[38;5;241;43m.\u001b[39;49m\u001b[43mTorus\u001b[49m\u001b[43m(\u001b[49m\u001b[43m{\u001b[49m\u001b[38;5;124;43m'\u001b[39;49m\u001b[38;5;124;43mh\u001b[39;49m\u001b[38;5;124;43m'\u001b[39;49m\u001b[43m:\u001b[49m\u001b[43m \u001b[49m\u001b[38;5;241;43m1\u001b[39;49m\u001b[43m,\u001b[49m\u001b[43m \u001b[49m\u001b[38;5;124;43m'\u001b[39;49m\u001b[38;5;124;43mhe\u001b[39;49m\u001b[38;5;124;43m'\u001b[39;49m\u001b[43m \u001b[49m\u001b[43m:\u001b[49m\u001b[43m \u001b[49m\u001b[38;5;241;43m0.11\u001b[39;49m\u001b[43m}\u001b[49m\u001b[43m,\u001b[49m\u001b[43m \u001b[49m\u001b[43mnorm_ss\u001b[49m\u001b[43m,\u001b[49m\u001b[43m \u001b[49m\u001b[38;5;241;43m1e33\u001b[39;49m\u001b[43m,\u001b[49m\u001b[43m \u001b[49m\u001b[38;5;241;43m7e10\u001b[39;49m\u001b[43m,\u001b[49m\u001b[43m \u001b[49m\u001b[38;5;241;43m0.02\u001b[39;49m\u001b[38;5;241;43m*\u001b[39;49m\u001b[38;5;241;43m1.5e13\u001b[39;49m\u001b[43m,\u001b[49m\u001b[43m \u001b[49m\u001b[38;5;241;43m10\u001b[39;49m\u001b[38;5;241;43m*\u001b[39;49m\u001b[38;5;241;43m*\u001b[39;49m\u001b[38;5;241;43m4\u001b[39;49m\u001b[43m,\u001b[49m\u001b[43m \u001b[49m\u001b[38;5;241;43m0.02\u001b[39;49m\u001b[38;5;241;43m*\u001b[39;49m\u001b[38;5;241;43m1.5e13\u001b[39;49m\u001b[43m,\u001b[49m\u001b[43m \u001b[49m\u001b[43mtau\u001b[49m\u001b[43m \u001b[49m\u001b[38;5;241;43m=\u001b[39;49m\u001b[43m \u001b[49m\u001b[38;5;241;43m1\u001b[39;49m\u001b[43m)\u001b[49m\n\u001b[1;32m     14\u001b[0m \u001b[38;5;66;03m#have a go at changing the he/hydrogen ratio to change\u001b[39;00m\n\u001b[1;32m     15\u001b[0m testTorus\u001b[38;5;241m.\u001b[39mcalculate_ion_abundances_all_species()\n",
      "File \u001b[0;32m~/Work/ChiantiPy/torus.py:27\u001b[0m, in \u001b[0;36mTorus.__init__\u001b[0;34m(self, species, stellar_spectrum, Ms, Rs, ap, T, Rtorus, orb_el, tau, nH, calculate_abundances)\u001b[0m\n\u001b[1;32m     25\u001b[0m \u001b[38;5;28mself\u001b[39m\u001b[38;5;241m.\u001b[39mRtorus \u001b[38;5;241m=\u001b[39m Rtorus\n\u001b[1;32m     26\u001b[0m \u001b[38;5;28mself\u001b[39m\u001b[38;5;241m.\u001b[39morb_el \u001b[38;5;241m=\u001b[39m orb_el\n\u001b[0;32m---> 27\u001b[0m \u001b[38;5;28mself\u001b[39m\u001b[38;5;241m.\u001b[39mD \u001b[38;5;241m=\u001b[39m \u001b[38;5;28;43mself\u001b[39;49m\u001b[38;5;241;43m.\u001b[39;49m\u001b[43mRtorus\u001b[49m\u001b[43m[\u001b[49m\u001b[38;5;241;43m1\u001b[39;49m\u001b[43m]\u001b[49m \u001b[38;5;241m-\u001b[39m \u001b[38;5;28mself\u001b[39m\u001b[38;5;241m.\u001b[39mRtorus[\u001b[38;5;241m0\u001b[39m]\n\u001b[1;32m     29\u001b[0m \u001b[38;5;66;03m# on initialization, we calculate the hydrogen state abundances. In order to do this, we need either an number density of hydrogen or a optical depth\u001b[39;00m\n\u001b[1;32m     30\u001b[0m gamma \u001b[38;5;241m=\u001b[39m pe\u001b[38;5;241m.\u001b[39mget_phion_rates(\u001b[38;5;124m'\u001b[39m\u001b[38;5;124mh\u001b[39m\u001b[38;5;124m'\u001b[39m, \u001b[38;5;28mself\u001b[39m\u001b[38;5;241m.\u001b[39mstellar_spectrum)[\u001b[38;5;241m0\u001b[39m]\n",
      "\u001b[0;31mTypeError\u001b[0m: 'float' object is not subscriptable"
     ]
    }
   ],
   "source": [
    "#Torus parameters \n",
    "\n",
    "#elements (in ratio compared to hydrogen)\n",
    "#stellar spectrum in cgs\n",
    "#stellar mass\n",
    "#stellar radius \n",
    "#planet orbital semimajoraxis\n",
    "#temperature of gas\n",
    "#disc radius\n",
    "#optical depth of gas to 13.6ev radiation\n",
    "\n",
    "\n",
    "testTorus = torus.Torus({'h': 1, 'he' : 0.11}, norm_ss, 1e33, 7e10, 0.02*1.5e13, 10**4, 0.02*1.5e13, tau = 1)\n",
    "#have a go at changing the he/hydrogen ratio to change\n",
    "testTorus.calculate_ion_abundances_all_species()\n",
    "wavgrid = np.linspace(1.0828e-4, 1.0833e-4, 400)\n",
    "intensity = testTorus.do_transit_He()\n",
    "\n",
    "plt.plot(wavgrid, intensity)"
   ]
  },
  {
   "cell_type": "code",
   "execution_count": 7,
   "metadata": {},
   "outputs": [
    {
     "data": {
      "text/plain": [
       "0.01951392551156117"
      ]
     },
     "execution_count": 7,
     "metadata": {},
     "output_type": "execute_result"
    }
   ],
   "source": [
    "testTorus.nH / 1e9"
   ]
  },
  {
   "cell_type": "code",
   "execution_count": 5,
   "metadata": {},
   "outputs": [
    {
     "data": {
      "text/plain": [
       "2.140985045401814"
      ]
     },
     "execution_count": 5,
     "metadata": {},
     "output_type": "execute_result"
    }
   ],
   "source": [
    "testTorus.calculate_tau_species('he_triplet')"
   ]
  },
  {
   "cell_type": "code",
   "execution_count": 33,
   "metadata": {},
   "outputs": [],
   "source": [
    "def is_eclipse_visible(rm, rme):\n",
    "    \n",
    "    rse = 1.5e13\n",
    "    #rme = 3.84e10\n",
    "    rs = 6.9e10\n",
    "    \n",
    "    return rm * (rse - rme) / (rs * rme * (1 - rm / rs))"
   ]
  },
  {
   "cell_type": "code",
   "execution_count": 31,
   "metadata": {},
   "outputs": [
    {
     "data": {
      "text/plain": [
       "0.9835409842115495"
      ]
     },
     "execution_count": 31,
     "metadata": {},
     "output_type": "execute_result"
    }
   ],
   "source": [
    "is_eclipse_visible(173.74e6, 3.84e10)"
   ]
  },
  {
   "cell_type": "code",
   "execution_count": null,
   "metadata": {},
   "outputs": [],
   "source": []
  }
 ],
 "metadata": {
  "kernelspec": {
   "display_name": "Python 3 (ipykernel)",
   "language": "python",
   "name": "python3"
  },
  "language_info": {
   "codemirror_mode": {
    "name": "ipython",
    "version": 3
   },
   "file_extension": ".py",
   "mimetype": "text/x-python",
   "name": "python",
   "nbconvert_exporter": "python",
   "pygments_lexer": "ipython3",
   "version": "3.8.18"
  }
 },
 "nbformat": 4,
 "nbformat_minor": 4
}

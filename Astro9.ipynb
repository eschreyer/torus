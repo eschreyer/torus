{
 "cells": [
  {
   "cell_type": "code",
   "execution_count": 1,
   "metadata": {},
   "outputs": [
    {
     "name": "stdout",
     "output_type": "stream",
     "text": [
      " ChiantiPy version 0.15.0 \n",
      " found PyQt5 widgets\n",
      " using PyQt5 widgets\n"
     ]
    }
   ],
   "source": [
    "import scipy.io as sp_io\n",
    "import scipy.integrate as sp_int\n",
    "import importlib\n",
    "import torus\n",
    "from copy import deepcopy\n",
    "import matplotlib.pyplot as plt\n",
    "import numpy as np"
   ]
  },
  {
   "cell_type": "code",
   "execution_count": 2,
   "metadata": {},
   "outputs": [],
   "source": [
    "#constants \n",
    "\n",
    "c = 2.9979e10\n",
    "mp = 1.67e-24\n",
    "k_b = 1.3807e-16\n",
    "m_e = 9.11e-28\n",
    "e = 4.803e-10\n",
    "G = 6.67e-8"
   ]
  },
  {
   "cell_type": "code",
   "execution_count": 3,
   "metadata": {},
   "outputs": [],
   "source": [
    "##turn .sav file of solar spectrum into usable python solar spectrum \n",
    "\"\"\"** Structure <20abc08>, 6 tags, length=165722064, data length=165722064, refs=1:\n",
    "   WAVELENGTH      FLOAT     Array[920]\t\t\t(nm)\n",
    "   DATE_YD         DOUBLE    Array[14989]\t\t(YYYYDOY date format)\n",
    "   DATE_JD         DOUBLE    Array[14989]\t\t(Julian Day format)\n",
    "   IRRADIANCE      FLOAT     Array[14989, 920]\t(mW/m^2/nm)\n",
    "   FLAG_SOURCE     FLOAT     Array[14989, 920]\t(number from -1 to 139 that represents data source)\n",
    "   MODEL           FLOAT     Array[14989, 920]\t(mW/m^2/nm)\n",
    "   UNCERTAINTY_IRRADIANCE   FLOAT     Array[920]    (unitless, % relative accuracy)\n",
    "   UNCERTAINTY_MODEL        FLOAT     Array[920]    (unitless, % relative accuracy)\"\"\"\n",
    "\n",
    "\n",
    "\n",
    "ss_idl = sp_io.readsav('ssi3_ext_0nm_1600nm.sav')\n",
    "ss_wav = ss_idl['ssi3_ext'][0][0] #nm\n",
    "ss_irr = ss_idl['ssi3_ext'][0][3][:, 1000] #mw/m^2/nm\n",
    "ss_mod = ss_idl['ssi3_ext'][0][5][:, 1000] #mw/m^2/nm\n",
    "\n",
    "#turn into cgs\n",
    "ss_wav_cgs = ss_wav * 1e-7\n",
    "ss_irr_cgs = ss_irr * 1e7\n",
    "ss_nu_cgs = c / ss_wav_cgs\n",
    "ss_irr_nu_cgs = ss_irr_cgs * ss_wav_cgs**2 / c\n",
    "\n",
    "ss = {'wl' : ss_wav_cgs, 'F_wl' : ss_irr_cgs, 'nu' : ss_nu_cgs, 'F_nu' : ss_irr_nu_cgs}\n",
    "\n",
    "def normalize_spectrum(stellar_spectrum, Feuv, euv_range = [1e-6, 1.17e-5]):\n",
    "\n",
    "    normalized_stellar_spectrum = deepcopy(stellar_spectrum)\n",
    "    euv_mask = (stellar_spectrum['wl'] > euv_range[0]) & (stellar_spectrum['wl'] < euv_range[1])\n",
    "    Feuv_ss = sp_int.trapezoid(stellar_spectrum['F_wl'][euv_mask], stellar_spectrum['wl'][euv_mask])\n",
    "    normalized_stellar_spectrum['F_wl'] *= (Feuv / Feuv_ss)\n",
    "    normalized_stellar_spectrum['F_nu'] *= (Feuv / Feuv_ss)\n",
    "    \n",
    "    return normalized_stellar_spectrum\n",
    "\n",
    "norm_ss = normalize_spectrum(ss, 10**4)"
   ]
  },
  {
   "cell_type": "code",
   "execution_count": 6,
   "metadata": {},
   "outputs": [
    {
     "name": "stdout",
     "output_type": "stream",
     "text": [
      "1.644087775862189\n"
     ]
    },
    {
     "ename": "AttributeError",
     "evalue": "'Torus' object has no attribute 'do_transit_He'",
     "output_type": "error",
     "traceback": [
      "\u001b[0;31m---------------------------------------------------------------------------\u001b[0m",
      "\u001b[0;31mAttributeError\u001b[0m                            Traceback (most recent call last)",
      "Cell \u001b[0;32mIn[6], line 17\u001b[0m\n\u001b[1;32m     15\u001b[0m testTorus\u001b[38;5;241m.\u001b[39mcalculate_ion_abundances_all_species()\n\u001b[1;32m     16\u001b[0m wavgrid \u001b[38;5;241m=\u001b[39m np\u001b[38;5;241m.\u001b[39mlinspace(\u001b[38;5;241m1.0828e-4\u001b[39m, \u001b[38;5;241m1.0833e-4\u001b[39m, \u001b[38;5;241m400\u001b[39m)\n\u001b[0;32m---> 17\u001b[0m intensity \u001b[38;5;241m=\u001b[39m \u001b[43mtestTorus\u001b[49m\u001b[38;5;241;43m.\u001b[39;49m\u001b[43mdo_transit_He\u001b[49m()\n\u001b[1;32m     19\u001b[0m plt\u001b[38;5;241m.\u001b[39mplot(wavgrid, intensity)\n",
      "\u001b[0;31mAttributeError\u001b[0m: 'Torus' object has no attribute 'do_transit_He'"
     ]
    }
   ],
   "source": [
    "#Torus parameters \n",
    "\n",
    "#elements (in ratio compared to hydrogen)\n",
    "#stellar spectrum in cgs\n",
    "#stellar mass\n",
    "#stellar radius \n",
    "#planet orbital semimajoraxis\n",
    "#temperature of gas\n",
    "#disc radius\n",
    "#optical depth of gas to 13.6ev radiation\n",
    "\n",
    "\n",
    "testTorus = torus.Torus({'h': 1, 'he' : 0.11}, norm_ss, 1e33, 7e10, 0.02*1.5e13, 1.0*10**4, [0.01, 0.03], tau = 1)\n",
    "#have a go at changing the he/hydrogen ratio to change\n",
    "testTorus.calculate_ion_abundances_all_species()\n",
    "wavgrid = np.linspace(1.0828e-4, 1.0833e-4, 400)\n",
    "intensity = testTorus.do_transit_He()\n",
    "\n",
    "plt.plot(wavgrid, intensity)"
   ]
  },
  {
   "cell_type": "code",
   "execution_count": 7,
   "metadata": {},
   "outputs": [
    {
     "data": {
      "text/plain": [
       "0.01951392551156117"
      ]
     },
     "execution_count": 7,
     "metadata": {},
     "output_type": "execute_result"
    }
   ],
   "source": [
    "testTorus.nH / 1e9"
   ]
  },
  {
   "cell_type": "code",
   "execution_count": 5,
   "metadata": {},
   "outputs": [
    {
     "data": {
      "text/plain": [
       "2.140985045401814"
      ]
     },
     "execution_count": 5,
     "metadata": {},
     "output_type": "execute_result"
    }
   ],
   "source": [
    "testTorus.calculate_tau_species('he_triplet')"
   ]
  },
  {
   "cell_type": "code",
   "execution_count": 33,
   "metadata": {},
   "outputs": [],
   "source": [
    "def is_eclipse_visible(rm, rme):\n",
    "    \n",
    "    rse = 1.5e13\n",
    "    #rme = 3.84e10\n",
    "    rs = 6.9e10\n",
    "    \n",
    "    return rm * (rse - rme) / (rs * rme * (1 - rm / rs))"
   ]
  },
  {
   "cell_type": "code",
   "execution_count": 31,
   "metadata": {},
   "outputs": [
    {
     "data": {
      "text/plain": [
       "0.9835409842115495"
      ]
     },
     "execution_count": 31,
     "metadata": {},
     "output_type": "execute_result"
    }
   ],
   "source": [
    "is_eclipse_visible(173.74e6, 3.84e10)"
   ]
  },
  {
   "cell_type": "code",
   "execution_count": null,
   "metadata": {},
   "outputs": [],
   "source": []
  }
 ],
 "metadata": {
  "kernelspec": {
   "display_name": "Python 3 (ipykernel)",
   "language": "python",
   "name": "python3"
  },
  "language_info": {
   "codemirror_mode": {
    "name": "ipython",
    "version": 3
   },
   "file_extension": ".py",
   "mimetype": "text/x-python",
   "name": "python",
   "nbconvert_exporter": "python",
   "pygments_lexer": "ipython3",
   "version": "3.8.18"
  }
 },
 "nbformat": 4,
 "nbformat_minor": 4
}
